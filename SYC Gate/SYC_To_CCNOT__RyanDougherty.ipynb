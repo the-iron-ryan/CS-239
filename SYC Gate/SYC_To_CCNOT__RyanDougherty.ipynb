{
 "cells": [
  {
   "cell_type": "code",
   "execution_count": 23,
   "metadata": {},
   "outputs": [],
   "source": [
    "from qiskit import *\n",
    "from qiskit.tools.visualization import plot_histogram\n",
    "from qiskit.quantum_info import Operator, Statevector\n",
    "from qiskit.tools.monitor import job_monitor\n",
    "from qiskit.quantum_info import Statevector\n",
    "\n",
    "import numpy as np\n",
    "import matplotlib.pyplot as plt\n",
    "\n",
    "import array_to_latex as a2l\n",
    "from IPython.display import display, Markdown, Latex"
   ]
  },
  {
   "cell_type": "code",
   "execution_count": 5,
   "metadata": {},
   "outputs": [],
   "source": [
    "backend = BasicAer.get_backend('unitary_simulator')"
   ]
  },
  {
   "attachments": {},
   "cell_type": "markdown",
   "metadata": {},
   "source": [
    "Here is the decomposition of the SYC gate correct up to a global phase:"
   ]
  },
  {
   "cell_type": "code",
   "execution_count": 6,
   "metadata": {},
   "outputs": [
    {
     "data": {
      "image/png": "[encoded data removed]",
      "text/plain": [
       "<Figure size 454.517x200.667 with 1 Axes>"
      ]
     },
     "execution_count": 6,
     "metadata": {},
     "output_type": "execute_result"
    }
   ],
   "source": [
    "N = 2\n",
    "\n",
    "qc_SYC = QuantumCircuit(N, name=\"SYC\")\n",
    "\n",
    "qc_SYC.p(-np.pi/2,0)\n",
    "qc_SYC.p(-np.pi/2,1)\n",
    "qc_SYC.swap(0, 1)\n",
    "qc_SYC.cp(-np.pi/6,0,1)\n",
    "SYC = qc_SYC.to_gate()\n",
    "\n",
    "qc_SYC.draw(output='mpl')\n"
   ]
  },
  {
   "cell_type": "code",
   "execution_count": 77,
   "metadata": {},
   "outputs": [
    {
     "name": "stdout",
     "output_type": "stream",
     "text": [
      "Result of SYC(0,1):\n"
     ]
    },
    {
     "data": {
      "text/latex": [
       "\\begin{bmatrix}\n",
       "  1.0 + 0.0j  &  0.0 + 0.0j  &  0.0 + 0.0j  &  0.0 + 0.0j \\\\\n",
       "  0.0 + 0.0j  &  0.0 + 0.0j  &  0.0 + -1.0j  &  0.0 + 0.0j \\\\\n",
       "  0.0 + 0.0j  &  0.0 + -1.0j  &  0.0 + 0.0j  &  0.0 + 0.0j \\\\\n",
       "  0.0 + 0.0j  &  0.0 + 0.0j  &  0.0 + 0.0j  & -0.87 + 0.5j\n",
       "\\end{bmatrix}"
      ],
      "text/plain": [
       "<IPython.core.display.Latex object>"
      ]
     },
     "metadata": {},
     "output_type": "display_data"
    }
   ],
   "source": [
    "job = backend.run(transpile(qc_SYC, backend))\n",
    "gate = job.result().get_unitary(qc_SYC, decimals=2)\n",
    "lat = a2l.to_ltx(gate, frmt='{:1}', arraytype='bmatrix', print_out=False, mathform=True)\n",
    "print(\"Result of SYC(0,1):\")\n",
    "display(Latex(lat))"
   ]
  },
  {
   "attachments": {},
   "cell_type": "markdown",
   "metadata": {},
   "source": [
    "Based on the output matrix and resulting circuit, we can conclude that ths SYC gate is effectively a 2 qubit SWAP gate with an applied phase. Next, let's try to see what a combination of SYC gates and see what it creates."
   ]
  },
  {
   "cell_type": "code",
   "execution_count": 8,
   "metadata": {},
   "outputs": [
    {
     "data": {
      "image/png": "[encoded data removed]",
      "text/plain": [
       "<Figure size 621.739x200.667 with 1 Axes>"
      ]
     },
     "execution_count": 8,
     "metadata": {},
     "output_type": "execute_result"
    }
   ],
   "source": [
    "N=2\n",
    "qc_cz = QuantumCircuit(N, name=\"SYC Creation of CZ\")\n",
    "qc_cz.append(SYC, [0 ,1])\n",
    "qc_cz.append(SYC, [0 ,1])\n",
    "qc_cz.append(SYC, [0 ,1])\n",
    "qc_cz.append(SYC, [0 ,1])\n",
    "qc_cz.append(SYC, [0 ,1])\n",
    "qc_cz.append(SYC, [0 ,1])\n",
    "qc_cz.draw(output='mpl')"
   ]
  },
  {
   "cell_type": "code",
   "execution_count": 75,
   "metadata": {},
   "outputs": [
    {
     "name": "stdout",
     "output_type": "stream",
     "text": [
      "Result of SYC(0,1)^6 :\n"
     ]
    },
    {
     "data": {
      "text/latex": [
       "\\begin{bmatrix}\n",
       "  1.0 &  0.0 &  0.0 &  0.0\\\\\n",
       "  0.0 & -1.0 &  0.0 &  0.0\\\\\n",
       "  0.0 &  0.0 & -1.0 &  0.0\\\\\n",
       "  0.0 &  0.0 &  0.0 & -1.0\n",
       "\\end{bmatrix}"
      ],
      "text/plain": [
       "<IPython.core.display.Latex object>"
      ]
     },
     "metadata": {},
     "output_type": "display_data"
    }
   ],
   "source": [
    "job = backend.run(transpile(qc_cz, backend))\n",
    "gate = job.result().get_unitary(qc_cz, decimals=2)\n",
    "print(\"Result of SYC(0,1)^6 :\")\n",
    "lat = a2l.to_ltx(np.real(gate), frmt='{:1}', arraytype='bmatrix', print_out=False, mathform=True)\n",
    "display(Latex(lat))"
   ]
  },
  {
   "attachments": {},
   "cell_type": "markdown",
   "metadata": {},
   "source": [
    "From this matrix result above, we can see that SYC applied 6 times is equivalent to the CZ gate with a phase shift; We can correct this phase shift with the application of Z gates on the first and second qubits.\n",
    "\n",
    "Next, we can translate this CZ gate creation of the SYC gate into a CNOT with the simple application of hadamard gates on both sides of qubit 1."
   ]
  },
  {
   "cell_type": "code",
   "execution_count": 61,
   "metadata": {},
   "outputs": [
    {
     "data": {
      "image/png": "[encoded data removed]",
      "text/plain": [
       "<Figure size 872.572x200.667 with 1 Axes>"
      ]
     },
     "execution_count": 61,
     "metadata": {},
     "output_type": "execute_result"
    }
   ],
   "source": [
    "N=2\n",
    "qc = QuantumCircuit(N, name=\"SYC_CNOT\")\n",
    "qc.h(1)\n",
    "qc.append(SYC, [0 ,1])\n",
    "qc.append(SYC, [0 ,1])\n",
    "qc.append(SYC, [0 ,1])\n",
    "qc.append(SYC, [0 ,1])\n",
    "qc.append(SYC, [0 ,1])\n",
    "qc.append(SYC, [0 ,1])\n",
    "qc.z(0)\n",
    "qc.z(1)\n",
    "qc.h(1)\n",
    "\n",
    "SYC_CNOT = qc.to_gate()\n",
    "qc.draw(output='mpl')"
   ]
  },
  {
   "cell_type": "code",
   "execution_count": 74,
   "metadata": {},
   "outputs": [
    {
     "name": "stdout",
     "output_type": "stream",
     "text": [
      "Result of SYC(0,1)^6 :\n"
     ]
    },
    {
     "data": {
      "text/latex": [
       "\\begin{bmatrix}\n",
       "  1.0 &  0.0 &  0.0 &  0.0 &  -0.0 &  0.0 &  0.0 &  0.0\\\\\n",
       "  0.0 &  1.0 &  0.0 &  0.0 &  0.0 &  0.0 &  0.0 &  -0.0\\\\\n",
       "  0.0 &  0.0 &  1.0 &  0.0 &  0.0 &  0.0 &  0.0 &  0.0\\\\\n",
       "  0.0 &  0.0 &  0.0 &  0.0 &  0.0 &  0.0 &  0.0 &  1.0\\\\\n",
       "  0.0 &  0.0 &  0.0 &  0.0 &  1.0 &  0.0 &  0.0 &  0.0\\\\\n",
       "  0.0 &  0.0 &  0.0 &  -0.0 &  0.0 &  1.0 &  0.0 &  0.0\\\\\n",
       "  0.0 &  0.0 &  0.0 &  0.0 &  0.0 &  0.0 &  1.0 &  0.0\\\\\n",
       "  0.0 &  0.0 &  0.0 &  1.0 &  0.0 &  0.0 &  0.0 &  -0.0\n",
       "\\end{bmatrix}"
      ],
      "text/plain": [
       "<IPython.core.display.Latex object>"
      ]
     },
     "metadata": {},
     "output_type": "display_data"
    },
    {
     "name": "stdout",
     "output_type": "stream",
     "text": [
      "\n",
      "Result of CNOT(0,1):\n"
     ]
    },
    {
     "data": {
      "text/latex": [
       "\\begin{bmatrix}\n",
       "  1.0 &  0.0 &  0.0 &  0.0 &  -0.0 &  0.0 &  0.0 &  0.0\\\\\n",
       "  0.0 &  1.0 &  0.0 &  0.0 &  0.0 &  0.0 &  0.0 &  -0.0\\\\\n",
       "  0.0 &  0.0 &  1.0 &  0.0 &  0.0 &  0.0 &  0.0 &  0.0\\\\\n",
       "  0.0 &  0.0 &  0.0 &  0.0 &  0.0 &  0.0 &  0.0 &  1.0\\\\\n",
       "  0.0 &  0.0 &  0.0 &  0.0 &  1.0 &  0.0 &  0.0 &  0.0\\\\\n",
       "  0.0 &  0.0 &  0.0 &  -0.0 &  0.0 &  1.0 &  0.0 &  0.0\\\\\n",
       "  0.0 &  0.0 &  0.0 &  0.0 &  0.0 &  0.0 &  1.0 &  0.0\\\\\n",
       "  0.0 &  0.0 &  0.0 &  1.0 &  0.0 &  0.0 &  0.0 &  -0.0\n",
       "\\end{bmatrix}"
      ],
      "text/plain": [
       "<IPython.core.display.Latex object>"
      ]
     },
     "metadata": {},
     "output_type": "display_data"
    }
   ],
   "source": [
    "job = backend.run(transpile(qc, backend))\n",
    "gate = job.result().get_unitary(qc, decimals=2)\n",
    "lat = a2l.to_ltx(np.real(gate), frmt='{:1}', arraytype='bmatrix', print_out=False, mathform=True)\n",
    "print(\"Result of SYC(0,1)^6 :\")\n",
    "display(Latex(lat))\n",
    "\n",
    "print()\n",
    "\n",
    "qc_cnot = QuantumCircuit(N, name=\"CNOT (0,1)\")\n",
    "qc_cnot.cx(0,1)\n",
    "job = backend.run(transpile(qc_cnot, backend))\n",
    "lat = a2l.to_ltx(np.real(gate), frmt='{:1}', arraytype='bmatrix', print_out=False, mathform=True)\n",
    "print(\"Result of CNOT(0,1):\")\n",
    "display(Latex(lat))"
   ]
  },
  {
   "attachments": {},
   "cell_type": "markdown",
   "metadata": {},
   "source": [
    "Now that we have a CNOT gate composed of SYC gates, lets use a combination of them to create a CCNOT (Toffoili) gate.\n",
    "\n",
    "From the paper \"Five two-qubit gates are necessary for implmenting the Toffoli gate\" (Physical Review A. 88 (1): 010304. arXiv:1301.3372), we can see that the optimal way to decompose a Toffoli gate is with 6 two qubit CNOT gates. A recreation of the circuit from the paper is shown here:"
   ]
  },
  {
   "cell_type": "code",
   "execution_count": 66,
   "metadata": {},
   "outputs": [
    {
     "data": {
      "image/png": "[encoded data removed]",
      "text/plain": [
       "<Figure size 1040x284.278 with 1 Axes>"
      ]
     },
     "execution_count": 66,
     "metadata": {},
     "output_type": "execute_result"
    }
   ],
   "source": [
    "N = 3\n",
    "qc = QuantumCircuit(N, name=\"CCNOT Decomposed\")\n",
    "\n",
    "qc.h(2)\n",
    "qc.cnot(1,2)\n",
    "\n",
    "qc.tdg(2)\n",
    "qc.cnot(0, 2)\n",
    "qc.t(2)\n",
    "qc.cnot(1,2)\n",
    "qc.tdg(2)\n",
    "qc.cnot(0, 2)\n",
    "qc.t(1)\n",
    "qc.t(2)\n",
    "\n",
    "qc.cnot(0, 1)\n",
    "qc.h(2)\n",
    "\n",
    "qc.t(0)\n",
    "qc.tdg(1)\n",
    "qc.cnot(0, 1)\n",
    "\n",
    "qc.draw(output='mpl')"
   ]
  },
  {
   "cell_type": "code",
   "execution_count": 72,
   "metadata": {},
   "outputs": [
    {
     "data": {
      "text/latex": [
       "\\begin{bmatrix}\n",
       "  1.0 &  0.0 &  0.0 &  0.0 &  -0.0 &  0.0 &  0.0 &  0.0\\\\\n",
       "  0.0 &  1.0 &  0.0 &  0.0 &  0.0 &  0.0 &  0.0 &  -0.0\\\\\n",
       "  0.0 &  0.0 &  1.0 &  0.0 &  0.0 &  0.0 &  0.0 &  0.0\\\\\n",
       "  0.0 &  0.0 &  0.0 &  0.0 &  0.0 &  0.0 &  0.0 &  1.0\\\\\n",
       "  0.0 &  0.0 &  0.0 &  0.0 &  1.0 &  0.0 &  0.0 &  0.0\\\\\n",
       "  0.0 &  0.0 &  0.0 &  -0.0 &  0.0 &  1.0 &  0.0 &  0.0\\\\\n",
       "  0.0 &  0.0 &  0.0 &  0.0 &  0.0 &  0.0 &  1.0 &  0.0\\\\\n",
       "  0.0 &  0.0 &  0.0 &  1.0 &  0.0 &  0.0 &  0.0 &  -0.0\n",
       "\\end{bmatrix}"
      ],
      "text/plain": [
       "<IPython.core.display.Latex object>"
      ]
     },
     "metadata": {},
     "output_type": "display_data"
    }
   ],
   "source": [
    "job = backend.run(transpile(qc, backend))\n",
    "gate = job.result().get_unitary(qc, decimals=2)\n",
    "lat = a2l.to_ltx(np.real(gate), frmt='{:1}', arraytype='bmatrix', print_out=False, mathform=True)\n",
    "display(Latex(lat))"
   ]
  },
  {
   "cell_type": "code",
   "execution_count": 68,
   "metadata": {},
   "outputs": [
    {
     "data": {
      "image/png": "[encoded data removed]",
      "text/plain": [
       "<Figure size 1541.66x284.278 with 1 Axes>"
      ]
     },
     "execution_count": 68,
     "metadata": {},
     "output_type": "execute_result"
    }
   ],
   "source": [
    "N = 3\n",
    "qc = QuantumCircuit(N, name=\"CCNOT Decomposed\")\n",
    "\n",
    "qc.h(2)\n",
    "qc.append(SYC_CNOT, [1,2])\n",
    "\n",
    "qc.tdg(2)\n",
    "qc.append(SYC_CNOT, [0, 2])\n",
    "qc.t(2)\n",
    "qc.append(SYC_CNOT, [1,2])\n",
    "qc.tdg(2)\n",
    "qc.append(SYC_CNOT, [0, 2])\n",
    "qc.t(1)\n",
    "qc.t(2)\n",
    "\n",
    "qc.append(SYC_CNOT, [0, 1])\n",
    "qc.h(2)\n",
    "\n",
    "qc.t(0)\n",
    "qc.tdg(1)\n",
    "qc.append(SYC_CNOT, [0, 1])\n",
    "\n",
    "qc.draw(output='mpl')"
   ]
  },
  {
   "cell_type": "code",
   "execution_count": 73,
   "metadata": {},
   "outputs": [
    {
     "name": "stdout",
     "output_type": "stream",
     "text": [
      "Recreation of CCNOT (Toffoli) using an SYC two qubit gates:\n"
     ]
    },
    {
     "data": {
      "text/latex": [
       "\\begin{bmatrix}\n",
       "  1.0 &  0.0 &  0.0 &  0.0 &  -0.0 &  0.0 &  0.0 &  0.0\\\\\n",
       "  0.0 &  1.0 &  0.0 &  0.0 &  0.0 &  0.0 &  0.0 &  -0.0\\\\\n",
       "  0.0 &  0.0 &  1.0 &  0.0 &  0.0 &  0.0 &  0.0 &  0.0\\\\\n",
       "  0.0 &  0.0 &  0.0 &  0.0 &  0.0 &  0.0 &  0.0 &  1.0\\\\\n",
       "  0.0 &  0.0 &  0.0 &  0.0 &  1.0 &  0.0 &  0.0 &  0.0\\\\\n",
       "  0.0 &  0.0 &  0.0 &  -0.0 &  0.0 &  1.0 &  0.0 &  0.0\\\\\n",
       "  0.0 &  0.0 &  0.0 &  0.0 &  0.0 &  0.0 &  1.0 &  0.0\\\\\n",
       "  0.0 &  0.0 &  0.0 &  1.0 &  0.0 &  0.0 &  0.0 &  -0.0\n",
       "\\end{bmatrix}"
      ],
      "text/plain": [
       "<IPython.core.display.Latex object>"
      ]
     },
     "metadata": {},
     "output_type": "display_data"
    }
   ],
   "source": [
    "job = backend.run(transpile(qc, backend))\n",
    "gate = job.result().get_unitary(qc, decimals=2)\n",
    "lat = a2l.to_ltx(np.real(gate), frmt='{:1}', arraytype='bmatrix', print_out=False, mathform=True)\n",
    "print(\"Recreation of CCNOT (Toffoli) using an SYC two qubit gates:\")\n",
    "display(Latex(lat))"
   ]
  },
  {
   "attachments": {},
   "cell_type": "markdown",
   "metadata": {},
   "source": [
    "And there you have it. This is how you'd optimally create a CCNOT gate using SYC gates. The total used would be (6 CNOT SYC Gates) * (6 SYC Gates per CNOT) = **36 total SYC gates**"
   ]
  }
 ],
 "metadata": {
  "kernelspec": {
   "display_name": "Python 3",
   "language": "python",
   "name": "python3"
  },
  "language_info": {
   "codemirror_mode": {
    "name": "ipython",
    "version": 3
   },
   "file_extension": ".py",
   "mimetype": "text/x-python",
   "name": "python",
   "nbconvert_exporter": "python",
   "pygments_lexer": "ipython3",
   "version": "3.10.9 (main, Dec 19 2022, 17:35:49) [GCC 12.2.0]"
  },
  "orig_nbformat": 4,
  "vscode": {
   "interpreter": {
    "hash": "e7370f93d1d0cde622a1f8e1c04877d8463912d04d973331ad4851f04de6915a"
   }
  }
 },
 "nbformat": 4,
 "nbformat_minor": 2
}
