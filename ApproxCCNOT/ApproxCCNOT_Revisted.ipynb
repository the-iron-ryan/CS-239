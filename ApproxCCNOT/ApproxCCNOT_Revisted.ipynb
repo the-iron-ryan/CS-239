{
 "cells": [
  {
   "cell_type": "code",
   "execution_count": 100,
   "metadata": {},
   "outputs": [],
   "source": [
    "from qiskit import *\n",
    "from qiskit.circuit import Parameter,ParameterVector, Gate\n",
    "from qiskit.quantum_info import Operator\n",
    "from qiskit.circuit.library import *\n",
    "from qiskit.visualization import array_to_latex, plot_histogram\n",
    "from qutip import hilbert_dist, Qobj, fock_dm\n",
    "\n",
    "import random\n",
    "\n",
    "import pyswarms as ps\n",
    "import pyswarms.backend as P\n",
    "from pyswarms.backend.topology import Star\n",
    "\n",
    "from scipy.optimize import minimize\n",
    "\n",
    "import numpy as np\n",
    "import matplotlib.pyplot as plt"
   ]
  },
  {
   "cell_type": "code",
   "execution_count": 9,
   "metadata": {},
   "outputs": [],
   "source": [
    "def my_hilbert_schmidt_distance(gate1, gate2):\n",
    "    return np.sqrt(1 - (np.abs(np.trace(np.conj(gate1).T @ gate2))**2) / (2**3)**2)"
   ]
  },
  {
   "cell_type": "code",
   "execution_count": 82,
   "metadata": {},
   "outputs": [],
   "source": [
    "class SingleQubitU(Gate):\n",
    "    def __init__(self, theta, phi, lam):\n",
    "        super().__init__('U1', 1, [theta, phi, lam])\n",
    "    \n",
    "    def _define(self):\n",
    "        qc = QuantumCircuit(1)\n",
    "        qc.unitary(self.to_matrix(), [0])\n",
    "        self.definition = qc\n",
    "    \n",
    "    def to_matrix(self):\n",
    "        theta = float(self.params[0])\n",
    "        phi = float(self.params[1])\n",
    "        lam = float(self.params[2])\n",
    "        return UGate(theta, phi, lam).to_matrix()"
   ]
  },
  {
   "cell_type": "code",
   "execution_count": 6,
   "metadata": {},
   "outputs": [],
   "source": [
    "class AGate(Gate):\n",
    "    def __init__(self, a):\n",
    "        super().__init__('A', 1, [a])\n",
    "    \n",
    "    def _define(self):\n",
    "        qc = QuantumCircuit(1)\n",
    "        qc.unitary(self.to_matrix(), [0])\n",
    "        self.definition = qc\n",
    "    \n",
    "    def to_matrix(self):\n",
    "        a = float(self.params[0])\n",
    "        return np.array([[1, 0], [0, np.exp(1j*a)]])"
   ]
  },
  {
   "cell_type": "code",
   "execution_count": 12,
   "metadata": {},
   "outputs": [
    {
     "data": {
      "text/latex": [
       "$$\n",
       "\\text{CCZ Gate = }\n",
       "\\begin{bmatrix}\n",
       "1 & 0 & 0 & 0 & 0 & 0 & 0 & 0  \\\\\n",
       " 0 & 1 & 0 & 0 & 0 & 0 & 0 & 0  \\\\\n",
       " 0 & 0 & 1 & 0 & 0 & 0 & 0 & 0  \\\\\n",
       " 0 & 0 & 0 & 1 & 0 & 0 & 0 & 0  \\\\\n",
       " 0 & 0 & 0 & 0 & 1 & 0 & 0 & 0  \\\\\n",
       " 0 & 0 & 0 & 0 & 0 & 1 & 0 & 0  \\\\\n",
       " 0 & 0 & 0 & 0 & 0 & 0 & 1 & 0  \\\\\n",
       " 0 & 0 & 0 & 0 & 0 & 0 & 0 & -1  \\\\\n",
       " \\end{bmatrix}\n",
       "$$"
      ],
      "text/plain": [
       "<IPython.core.display.Latex object>"
      ]
     },
     "execution_count": 12,
     "metadata": {},
     "output_type": "execute_result"
    }
   ],
   "source": [
    "ccz_qc = QuantumCircuit(3)\n",
    "ccz_qc.ccz(0, 1, 2)\n",
    "ccz_gate = Operator(ccz_qc).data\n",
    "array_to_latex(ccz_gate, prefix=\"\\\\text{CCZ Gate = }\")"
   ]
  },
  {
   "cell_type": "code",
   "execution_count": 101,
   "metadata": {},
   "outputs": [
    {
     "data": {
      "image/png": "[encoded data removed]",
      "text/plain": [
       "<Figure size 538.33x284.278 with 1 Axes>"
      ]
     },
     "execution_count": 101,
     "metadata": {},
     "output_type": "execute_result"
    }
   ],
   "source": [
    "a1 = Parameter('a1')\n",
    "a2 = Parameter('a2')\n",
    "\n",
    "qc = QuantumCircuit(3)\n",
    "\n",
    "qc.cs(1,2)\n",
    "qc.cnot(0,1)\n",
    "qc.csdg(1,2)\n",
    "qc.cnot(0,1)\n",
    "qc.append(AGate(a1), [0])\n",
    "qc.append(AGate(a2), [2])\n",
    "\n",
    "\n",
    "qc.draw('mpl')"
   ]
  },
  {
   "cell_type": "code",
   "execution_count": 102,
   "metadata": {},
   "outputs": [
    {
     "name": "stdout",
     "output_type": "stream",
     "text": [
      "a1 gate value (0.7602445970756302+0.6496369390800624j)\n",
      "a2 gate value (0.7602445970756302+0.6496369390800624j)\n"
     ]
    }
   ],
   "source": [
    "a1_val = 1/np.sqrt(2)\n",
    "print(f\"a1 gate value {np.exp(1j*a1_val)}\")\n",
    "\n",
    "a2_val = 1/np.sqrt(2)\n",
    "print(f\"a2 gate value {np.exp(1j*a2_val)}\")"
   ]
  },
  {
   "cell_type": "code",
   "execution_count": 103,
   "metadata": {},
   "outputs": [],
   "source": [
    "def get_bounded_gate(qc, a1_val, a2_val):\n",
    "    bound_qc = qc.bind_parameters({a1: a1_val, a2: a2_val})\n",
    "    return Operator(bound_qc).data"
   ]
  },
  {
   "cell_type": "code",
   "execution_count": 104,
   "metadata": {},
   "outputs": [
    {
     "data": {
      "text/latex": [
       "$$\n",
       "\n",
       "\\begin{bmatrix}\n",
       "1 & 0 & 0 & 0 & 0 & 0 & 0 & 0  \\\\\n",
       " 0 & 0.76024 + 0.64964i & 0 & 0 & 0 & 0 & 0 & 0  \\\\\n",
       " 0 & 0 & 1 & 0 & 0 & 0 & 0 & 0  \\\\\n",
       " 0 & 0 & 0 & 0.76024 + 0.64964i & 0 & 0 & 0 & 0  \\\\\n",
       " 0 & 0 & 0 & 0 & 0.76024 + 0.64964i & 0 & 0 & 0  \\\\\n",
       " 0 & 0 & 0 & 0 & 0 & 0.98777 - 0.15594i & 0 & 0  \\\\\n",
       " 0 & 0 & 0 & 0 & 0 & 0 & 0.76024 + 0.64964i & 0  \\\\\n",
       " 0 & 0 & 0 & 0 & 0 & 0 & 0 & -0.98777 + 0.15594i  \\\\\n",
       " \\end{bmatrix}\n",
       "$$"
      ],
      "text/plain": [
       "<IPython.core.display.Latex object>"
      ]
     },
     "execution_count": 104,
     "metadata": {},
     "output_type": "execute_result"
    }
   ],
   "source": [
    "# let a = 1/sqrt(2) (i + 1)\n",
    "bound_qc = qc.bind_parameters({a1: a1_val, a2: a2_val})\n",
    "mat = Operator(bound_qc).data\n",
    "array_to_latex(mat)"
   ]
  },
  {
   "cell_type": "code",
   "execution_count": 105,
   "metadata": {},
   "outputs": [
    {
     "name": "stdout",
     "output_type": "stream",
     "text": [
      "Hilbert-Schmidt Distance:  0.3860814327470109\n"
     ]
    }
   ],
   "source": [
    "hs_dist = my_hilbert_schmidt_distance(mat, ccz_gate)\n",
    "print(\"Hilbert-Schmidt Distance: \", hs_dist)"
   ]
  },
  {
   "cell_type": "code",
   "execution_count": 76,
   "metadata": {},
   "outputs": [
    {
     "data": {
      "text/latex": [
       "$$\n",
       "\n",
       "\\begin{bmatrix}\n",
       "1 & 0 & 0 & 0 & 0 & 0 & 0 & 0  \\\\\n",
       " 0 & 0.85775 + 0.51262i & 0 & 0 & 0 & 0 & 0 & 0  \\\\\n",
       " 0 & 0 & 1 & 0 & 0 & 0 & 0 & 0  \\\\\n",
       " 0 & 0 & 0 & 0.85775 + 0.51262i & 0 & 0 & 0 & 0  \\\\\n",
       " 0 & 0 & 0 & 0 & 0.85775 + 0.51262i & 0 & 0 & 0  \\\\\n",
       " 0 & 0 & 0 & 0 & 0 & 0.88071 - 0.47366i & 0 & 0  \\\\\n",
       " 0 & 0 & 0 & 0 & 0 & 0 & 0.85775 + 0.51262i & 0  \\\\\n",
       " 0 & 0 & 0 & 0 & 0 & 0 & 0 & -0.88071 + 0.47366i  \\\\\n",
       " \\end{bmatrix}\n",
       "$$"
      ],
      "text/plain": [
       "<IPython.core.display.Latex object>"
      ]
     },
     "execution_count": 76,
     "metadata": {},
     "output_type": "execute_result"
    }
   ],
   "source": [
    "avg_mat = (get_bounded_gate(qc, 1/np.sqrt(3), 1/np.sqrt(4)) + get_bounded_gate(qc, 1 /np.sqrt(4), 1/np.sqrt(3))) / 2\n",
    "\n",
    "array_to_latex(avg_mat)"
   ]
  },
  {
   "cell_type": "code",
   "execution_count": 77,
   "metadata": {},
   "outputs": [
    {
     "name": "stdout",
     "output_type": "stream",
     "text": [
      "Hilbert-Schmidt Distance:  0.41556568058609233\n"
     ]
    }
   ],
   "source": [
    "avg_hs_dist = my_hilbert_schmidt_distance(avg_mat, ccz_gate)\n",
    "print(\"Hilbert-Schmidt Distance: \", avg_hs_dist)"
   ]
  },
  {
   "cell_type": "code",
   "execution_count": 107,
   "metadata": {},
   "outputs": [
    {
     "data": {
      "image/png": "[encoded data removed]",
      "text/plain": [
       "<Figure size 872.774x284.278 with 1 Axes>"
      ]
     },
     "execution_count": 107,
     "metadata": {},
     "output_type": "execute_result"
    }
   ],
   "source": [
    "pU1 = ParameterVector('pU1', 3)\n",
    "pU2 = ParameterVector('pU2', 3)\n",
    "pU3 = ParameterVector('pU3', 3)\n",
    "\n",
    "qc_ugates = QuantumCircuit(3)\n",
    "\n",
    "qc_ugates.cs(1,2)\n",
    "qc_ugates.cnot(0,1)\n",
    "qc_ugates.csdg(1,2)\n",
    "qc_ugates.cnot(0,1)\n",
    "qc_ugates.append(SingleQubitU(*pU1), [0])\n",
    "qc_ugates.append(SingleQubitU(*pU2), [1])\n",
    "qc_ugates.append(SingleQubitU(*pU3), [2])\n",
    "\n",
    "\n",
    "qc_ugates.draw('mpl')"
   ]
  },
  {
   "cell_type": "code",
   "execution_count": 108,
   "metadata": {},
   "outputs": [],
   "source": [
    "def get_bounded_u_gates(qc, theta1, phi1, lam1, theta2, phi2, lam2, theta3, phi3, lam3):\n",
    "    bound_qc = qc.bind_parameters({pU1[0]: theta1, pU1[1]: phi1, pU1[2]: lam1, pU2[0]: theta2, pU2[1]: phi2, pU2[2]: lam2, pU3[0]: theta3, pU3[1]: phi3, pU3[2]: lam3})\n",
    "    return Operator(bound_qc).data"
   ]
  },
  {
   "cell_type": "code",
   "execution_count": 109,
   "metadata": {},
   "outputs": [],
   "source": [
    "def get_avg_hs_ugates(params, qc, n):\n",
    "    avg_mat = np.zeros((8,8), dtype=complex)\n",
    "    for i in range(n):\n",
    "        avg_mat += get_bounded_u_gates(qc, *params[i*9:(i+1)*9])\n",
    "    avg_mat /= n\n",
    "    return my_hilbert_schmidt_distance(avg_mat, ccz_gate)"
   ]
  },
  {
   "cell_type": "code",
   "execution_count": 110,
   "metadata": {},
   "outputs": [
    {
     "name": "stdout",
     "output_type": "stream",
     "text": [
      "Optimization terminated successfully.\n",
      "         Current function value: 0.665731\n",
      "         Iterations: 5910\n",
      "         Function evaluations: 7272\n",
      " final_simplex: (array([[ 6.28319048e+00,  5.48749222e+00,  1.39785794e+00,\n",
      "         1.16613237e-05,  5.42326009e+00,  6.69691428e-01,\n",
      "         6.28319406e+00,  2.93028850e+00, -2.32814189e+00,\n",
      "         6.28317674e+00,  1.75361693e+00,  6.20273529e-01,\n",
      "         6.28322134e+00, -1.53220413e-01,  9.30979948e-01,\n",
      "         6.28318325e+00,  2.17941557e+00,  6.47764484e+00,\n",
      "        -8.07071137e-06,  4.90724410e+00,  1.97811103e+00,\n",
      "        -1.17682830e-06,  4.12110089e+00,  1.97185105e+00,\n",
      "         2.07629063e-06, -1.13543611e+00,  1.73756876e+00],\n",
      "       [ 6.28319151e+00,  5.48750430e+00,  1.39785225e+00,\n",
      "         2.07686935e-05,  5.42325080e+00,  6.69691243e-01,\n",
      "         6.28319446e+00,  2.93028080e+00, -2.32813164e+00,\n",
      "         6.28318203e+00,  1.75361543e+00,  6.20275023e-01,\n",
      "         6.28319880e+00, -1.53216487e-01,  9.30974321e-01,\n",
      "         6.28317732e+00,  2.17940488e+00,  6.47765948e+00,\n",
      "        -2.85757527e-06,  4.90724963e+00,  1.97810708e+00,\n",
      "        -3.08250088e-06,  4.12107459e+00,  1.97188090e+00,\n",
      "         1.79951580e-06, -1.13543394e+00,  1.73756512e+00],\n",
      "       [ 6.28318935e+00,  5.48748274e+00,  1.39786901e+00,\n",
      "        -1.96914823e-06,  5.42325686e+00,  6.69691296e-01,\n",
      "         6.28319884e+00,  2.93031500e+00, -2.32818039e+00,\n",
      "         6.28318939e+00,  1.75361522e+00,  6.20267977e-01,\n",
      "         6.28321446e+00, -1.53225232e-01,  9.30995116e-01,\n",
      "         6.28318618e+00,  2.17937642e+00,  6.47768540e+00,\n",
      "        -8.18799156e-08,  4.90723390e+00,  1.97811875e+00,\n",
      "         9.60810060e-07,  4.12114779e+00,  1.97179518e+00,\n",
      "         5.80951303e-06, -1.13545894e+00,  1.73758683e+00],\n",
      "       [ 6.28317407e+00,  5.48748025e+00,  1.39787349e+00,\n",
      "        -6.60668977e-06,  5.42324015e+00,  6.69701635e-01,\n",
      "         6.28317855e+00,  2.93034036e+00, -2.32820374e+00,\n",
      "         6.28319143e+00,  1.75360929e+00,  6.20268535e-01,\n",
      "         6.28321707e+00, -1.53233754e-01,  9.30996986e-01,\n",
      "         6.28316751e+00,  2.17940434e+00,  6.47765475e+00,\n",
      "        -1.74946842e-05,  4.90721359e+00,  1.97813038e+00,\n",
      "        -7.59415191e-06,  4.12115618e+00,  1.97179079e+00,\n",
      "        -2.13801798e-07, -1.13545298e+00,  1.73758198e+00],\n",
      "       [ 6.28318157e+00,  5.48748823e+00,  1.39787455e+00,\n",
      "        -3.21600987e-07,  5.42324415e+00,  6.69696195e-01,\n",
      "         6.28318892e+00,  2.93031322e+00, -2.32816683e+00,\n",
      "         6.28317318e+00,  1.75361691e+00,  6.20268078e-01,\n",
      "         6.28321553e+00, -1.53226461e-01,  9.30980686e-01,\n",
      "         6.28318123e+00,  2.17941580e+00,  6.47765632e+00,\n",
      "         9.44429207e-07,  4.90723662e+00,  1.97811946e+00,\n",
      "        -1.22279405e-06,  4.12117055e+00,  1.97177946e+00,\n",
      "         6.10756049e-06, -1.13544698e+00,  1.73757667e+00],\n",
      "       [ 6.28318203e+00,  5.48749684e+00,  1.39785953e+00,\n",
      "         7.22655242e-06,  5.42324013e+00,  6.69697107e-01,\n",
      "         6.28318382e+00,  2.93031194e+00, -2.32817065e+00,\n",
      "         6.28317127e+00,  1.75360266e+00,  6.20274101e-01,\n",
      "         6.28321048e+00, -1.53222921e-01,  9.30992767e-01,\n",
      "         6.28318873e+00,  2.17937409e+00,  6.47768302e+00,\n",
      "        -4.43275755e-06,  4.90723846e+00,  1.97811796e+00,\n",
      "        -1.09651422e-05,  4.12112265e+00,  1.97182739e+00,\n",
      "        -1.89921047e-06, -1.13546215e+00,  1.73758672e+00],\n",
      "       [ 6.28319991e+00,  5.48749147e+00,  1.39785352e+00,\n",
      "         1.77891242e-05,  5.42326717e+00,  6.69675939e-01,\n",
      "         6.28319931e+00,  2.93027809e+00, -2.32813482e+00,\n",
      "         6.28318850e+00,  1.75359818e+00,  6.20269457e-01,\n",
      "         6.28320700e+00, -1.53209204e-01,  9.30987894e-01,\n",
      "         6.28318538e+00,  2.17931716e+00,  6.47773539e+00,\n",
      "         1.26538602e-05,  4.90724316e+00,  1.97810622e+00,\n",
      "         1.21181146e-05,  4.12108008e+00,  1.97186905e+00,\n",
      "         5.17406273e-06, -1.13545574e+00,  1.73758335e+00],\n",
      "       [ 6.28320133e+00,  5.48749692e+00,  1.39784948e+00,\n",
      "         2.54021492e-05,  5.42326532e+00,  6.69678782e-01,\n",
      "         6.28319252e+00,  2.93025926e+00, -2.32810698e+00,\n",
      "         6.28316881e+00,  1.75361197e+00,  6.20273267e-01,\n",
      "         6.28320776e+00, -1.53208126e-01,  9.30966871e-01,\n",
      "         6.28319096e+00,  2.17938552e+00,  6.47768394e+00,\n",
      "        -7.31692157e-06,  4.90725216e+00,  1.97810272e+00,\n",
      "         9.74763488e-06,  4.12105680e+00,  1.97189278e+00,\n",
      "         6.59404540e-06, -1.13543405e+00,  1.73756600e+00],\n",
      "       [ 6.28318920e+00,  5.48749672e+00,  1.39785845e+00,\n",
      "         8.70639804e-06,  5.42325374e+00,  6.69689140e-01,\n",
      "         6.28319236e+00,  2.93029671e+00, -2.32816015e+00,\n",
      "         6.28317865e+00,  1.75361692e+00,  6.20272193e-01,\n",
      "         6.28320952e+00, -1.53219111e-01,  9.30983658e-01,\n",
      "         6.28317611e+00,  2.17938662e+00,  6.47767523e+00,\n",
      "         1.87069406e-06,  4.90723736e+00,  1.97811412e+00,\n",
      "         2.50032559e-06,  4.12110592e+00,  1.97182842e+00,\n",
      "         1.23577125e-05, -1.13544564e+00,  1.73757522e+00],\n",
      "       [ 6.28320622e+00,  5.48747845e+00,  1.39786651e+00,\n",
      "         6.99343006e-06,  5.42324927e+00,  6.69697344e-01,\n",
      "         6.28319253e+00,  2.93030747e+00, -2.32816518e+00,\n",
      "         6.28318179e+00,  1.75361298e+00,  6.20272536e-01,\n",
      "         6.28322358e+00, -1.53226333e-01,  9.30966759e-01,\n",
      "         6.28318444e+00,  2.17941564e+00,  6.47765096e+00,\n",
      "        -6.25047340e-06,  4.90722923e+00,  1.97812077e+00,\n",
      "        -6.81843774e-06,  4.12110687e+00,  1.97183961e+00,\n",
      "         9.54157520e-06, -1.13544411e+00,  1.73756877e+00],\n",
      "       [ 6.28319447e+00,  5.48749533e+00,  1.39786088e+00,\n",
      "         1.50572676e-06,  5.42324687e+00,  6.69702324e-01,\n",
      "         6.28318816e+00,  2.93031005e+00, -2.32816643e+00,\n",
      "         6.28318973e+00,  1.75362029e+00,  6.20273848e-01,\n",
      "         6.28320489e+00, -1.53226250e-01,  9.30993025e-01,\n",
      "         6.28318730e+00,  2.17942100e+00,  6.47764716e+00,\n",
      "         6.86844827e-07,  4.90724950e+00,  1.97811241e+00,\n",
      "        -1.28139938e-05,  4.12113564e+00,  1.97180894e+00,\n",
      "         1.61849296e-05, -1.13544996e+00,  1.73757992e+00],\n",
      "       [ 6.28319639e+00,  5.48748344e+00,  1.39786201e+00,\n",
      "         9.92916375e-06,  5.42325693e+00,  6.69694843e-01,\n",
      "         6.28321300e+00,  2.93030733e+00, -2.32815748e+00,\n",
      "         6.28318659e+00,  1.75360113e+00,  6.20271914e-01,\n",
      "         6.28320962e+00, -1.53225265e-01,  9.30992219e-01,\n",
      "         6.28317245e+00,  2.17936862e+00,  6.47770095e+00,\n",
      "        -1.88242768e-06,  4.90723147e+00,  1.97811282e+00,\n",
      "        -7.26259065e-06,  4.12108166e+00,  1.97187561e+00,\n",
      "         1.60031256e-06, -1.13544976e+00,  1.73757444e+00],\n",
      "       [ 6.28318649e+00,  5.48748741e+00,  1.39786249e+00,\n",
      "         7.30498536e-06,  5.42324574e+00,  6.69684497e-01,\n",
      "         6.28319504e+00,  2.93030965e+00, -2.32816509e+00,\n",
      "         6.28316680e+00,  1.75360367e+00,  6.20268261e-01,\n",
      "         6.28320596e+00, -1.53218572e-01,  9.30983512e-01,\n",
      "         6.28316065e+00,  2.17934497e+00,  6.47771228e+00,\n",
      "         5.15920155e-07,  4.90721827e+00,  1.97812597e+00,\n",
      "         8.85582295e-06,  4.12111430e+00,  1.97183090e+00,\n",
      "         9.13455892e-06, -1.13546154e+00,  1.73757567e+00],\n",
      "       [ 6.28319268e+00,  5.48750810e+00,  1.39785605e+00,\n",
      "         1.02157311e-05,  5.42323665e+00,  6.69690270e-01,\n",
      "         6.28318636e+00,  2.93030247e+00, -2.32815264e+00,\n",
      "         6.28318630e+00,  1.75361373e+00,  6.20270145e-01,\n",
      "         6.28319188e+00, -1.53218877e-01,  9.30995710e-01,\n",
      "         6.28316847e+00,  2.17937912e+00,  6.47767859e+00,\n",
      "        -1.14586471e-05,  4.90723749e+00,  1.97811592e+00,\n",
      "        -2.07843132e-06,  4.12110356e+00,  1.97184497e+00,\n",
      "        -1.76451994e-06, -1.13545498e+00,  1.73758123e+00],\n",
      "       [ 6.28318336e+00,  5.48748260e+00,  1.39786732e+00,\n",
      "         6.70311011e-06,  5.42326456e+00,  6.69685532e-01,\n",
      "         6.28319021e+00,  2.93030206e+00, -2.32817626e+00,\n",
      "         6.28319749e+00,  1.75360931e+00,  6.20269969e-01,\n",
      "         6.28322173e+00, -1.53220385e-01,  9.30976636e-01,\n",
      "         6.28318581e+00,  2.17936570e+00,  6.47769666e+00,\n",
      "         8.74945846e-06,  4.90723792e+00,  1.97811897e+00,\n",
      "         8.26276327e-06,  4.12113649e+00,  1.97180746e+00,\n",
      "         1.14342130e-05, -1.13544964e+00,  1.73757595e+00],\n",
      "       [ 6.28318999e+00,  5.48750072e+00,  1.39785770e+00,\n",
      "         1.07675672e-05,  5.42326467e+00,  6.69690442e-01,\n",
      "         6.28318276e+00,  2.93028337e+00, -2.32814579e+00,\n",
      "         6.28317912e+00,  1.75362741e+00,  6.20274245e-01,\n",
      "         6.28320643e+00, -1.53218455e-01,  9.30978622e-01,\n",
      "         6.28320415e+00,  2.17942614e+00,  6.47764001e+00,\n",
      "        -8.67738175e-06,  4.90725505e+00,  1.97810874e+00,\n",
      "        -4.43303111e-07,  4.12113145e+00,  1.97182202e+00,\n",
      "         4.51281948e-06, -1.13543874e+00,  1.73757426e+00],\n",
      "       [ 6.28318571e+00,  5.48749756e+00,  1.39785598e+00,\n",
      "         7.03085991e-06,  5.42324465e+00,  6.69695696e-01,\n",
      "         6.28318885e+00,  2.93031489e+00, -2.32818956e+00,\n",
      "         6.28318495e+00,  1.75361024e+00,  6.20275464e-01,\n",
      "         6.28321380e+00, -1.53224373e-01,  9.30994796e-01,\n",
      "         6.28316816e+00,  2.17936608e+00,  6.47767618e+00,\n",
      "         6.03718945e-06,  4.90722966e+00,  1.97812070e+00,\n",
      "        -7.80207474e-06,  4.12109446e+00,  1.97183905e+00,\n",
      "         4.06525032e-06, -1.13545350e+00,  1.73757910e+00],\n",
      "       [ 6.28320130e+00,  5.48748986e+00,  1.39786348e+00,\n",
      "         5.64691979e-06,  5.42326545e+00,  6.69697207e-01,\n",
      "         6.28320735e+00,  2.93030342e+00, -2.32816728e+00,\n",
      "         6.28318452e+00,  1.75361549e+00,  6.20271156e-01,\n",
      "         6.28321044e+00, -1.53226315e-01,  9.30998018e-01,\n",
      "         6.28317278e+00,  2.17940662e+00,  6.47765381e+00,\n",
      "         6.75715967e-07,  4.90724777e+00,  1.97810737e+00,\n",
      "        -6.72927596e-06,  4.12110000e+00,  1.97184864e+00,\n",
      "        -1.43696445e-05, -1.13543679e+00,  1.73757886e+00],\n",
      "       [ 6.28318284e+00,  5.48749468e+00,  1.39785002e+00,\n",
      "         1.81230593e-05,  5.42326554e+00,  6.69688661e-01,\n",
      "         6.28317165e+00,  2.93028303e+00, -2.32812842e+00,\n",
      "         6.28315788e+00,  1.75360485e+00,  6.20278632e-01,\n",
      "         6.28320778e+00, -1.53215666e-01,  9.30979459e-01,\n",
      "         6.28318673e+00,  2.17938674e+00,  6.47768223e+00,\n",
      "        -1.07207512e-06,  4.90723748e+00,  1.97811451e+00,\n",
      "         4.21870585e-07,  4.12110649e+00,  1.97185153e+00,\n",
      "        -3.44118195e-06, -1.13544341e+00,  1.73756394e+00],\n",
      "       [ 6.28319058e+00,  5.48748794e+00,  1.39786032e+00,\n",
      "         3.87335773e-06,  5.42325047e+00,  6.69703485e-01,\n",
      "         6.28319192e+00,  2.93031681e+00, -2.32818555e+00,\n",
      "         6.28319559e+00,  1.75361934e+00,  6.20276672e-01,\n",
      "         6.28320158e+00, -1.53229536e-01,  9.30985516e-01,\n",
      "         6.28317548e+00,  2.17942234e+00,  6.47764531e+00,\n",
      "         2.22096224e-06,  4.90723686e+00,  1.97812181e+00,\n",
      "        -1.32603288e-05,  4.12113015e+00,  1.97182217e+00,\n",
      "         7.62234702e-06, -1.13544722e+00,  1.73756837e+00],\n",
      "       [ 6.28319299e+00,  5.48748827e+00,  1.39786131e+00,\n",
      "         8.17574613e-06,  5.42325362e+00,  6.69689381e-01,\n",
      "         6.28319907e+00,  2.93029533e+00, -2.32813063e+00,\n",
      "         6.28319237e+00,  1.75361510e+00,  6.20268542e-01,\n",
      "         6.28319260e+00, -1.53218009e-01,  9.30983239e-01,\n",
      "         6.28319571e+00,  2.17938564e+00,  6.47768154e+00,\n",
      "        -1.21529690e-06,  4.90724811e+00,  1.97811487e+00,\n",
      "         1.02246590e-06,  4.12114272e+00,  1.97181597e+00,\n",
      "        -5.28034991e-06, -1.13546189e+00,  1.73757997e+00],\n",
      "       [ 6.28319117e+00,  5.48748227e+00,  1.39785562e+00,\n",
      "         8.78299184e-06,  5.42324739e+00,  6.69702307e-01,\n",
      "         6.28318282e+00,  2.93031057e+00, -2.32817596e+00,\n",
      "         6.28319888e+00,  1.75360840e+00,  6.20276256e-01,\n",
      "         6.28320822e+00, -1.53227748e-01,  9.30987909e-01,\n",
      "         6.28316686e+00,  2.17942646e+00,  6.47765131e+00,\n",
      "        -1.26959157e-05,  4.90724156e+00,  1.97811879e+00,\n",
      "        -1.24856646e-05,  4.12108173e+00,  1.97185554e+00,\n",
      "         7.20271658e-06, -1.13543886e+00,  1.73756704e+00],\n",
      "       [ 6.28317726e+00,  5.48748810e+00,  1.39785829e+00,\n",
      "         6.98784119e-06,  5.42326534e+00,  6.69687555e-01,\n",
      "         6.28318154e+00,  2.93029298e+00, -2.32815582e+00,\n",
      "         6.28316853e+00,  1.75361084e+00,  6.20271245e-01,\n",
      "         6.28320626e+00, -1.53217337e-01,  9.30989367e-01,\n",
      "         6.28319120e+00,  2.17939902e+00,  6.47767427e+00,\n",
      "        -1.04009460e-05,  4.90725194e+00,  1.97811309e+00,\n",
      "         4.49618669e-06,  4.12113568e+00,  1.97181401e+00,\n",
      "         2.04654743e-05, -1.13545075e+00,  1.73758102e+00],\n",
      "       [ 6.28319797e+00,  5.48750276e+00,  1.39785943e+00,\n",
      "         9.05969330e-06,  5.42325728e+00,  6.69693175e-01,\n",
      "         6.28318788e+00,  2.93030821e+00, -2.32818336e+00,\n",
      "         6.28318893e+00,  1.75360464e+00,  6.20274872e-01,\n",
      "         6.28321349e+00, -1.53223570e-01,  9.30997221e-01,\n",
      "         6.28317669e+00,  2.17936147e+00,  6.47770397e+00,\n",
      "        -6.63521215e-06,  4.90723792e+00,  1.97811370e+00,\n",
      "        -6.56452781e-06,  4.12109503e+00,  1.97185719e+00,\n",
      "         6.19893823e-07, -1.13545254e+00,  1.73758137e+00],\n",
      "       [ 6.28319999e+00,  5.48749623e+00,  1.39785545e+00,\n",
      "         1.47590430e-05,  5.42325438e+00,  6.69695204e-01,\n",
      "         6.28319651e+00,  2.93030402e+00, -2.32816664e+00,\n",
      "         6.28319607e+00,  1.75359329e+00,  6.20273763e-01,\n",
      "         6.28319043e+00, -1.53218651e-01,  9.30983585e-01,\n",
      "         6.28317921e+00,  2.17934850e+00,  6.47770731e+00,\n",
      "         8.36865189e-06,  4.90725056e+00,  1.97811048e+00,\n",
      "        -8.83384308e-06,  4.12106136e+00,  1.97187361e+00,\n",
      "         1.44983200e-05, -1.13545849e+00,  1.73758394e+00],\n",
      "       [ 6.28317781e+00,  5.48749510e+00,  1.39785961e+00,\n",
      "         1.93528548e-05,  5.42325818e+00,  6.69687345e-01,\n",
      "         6.28319310e+00,  2.93028053e+00, -2.32813534e+00,\n",
      "         6.28319906e+00,  1.75360746e+00,  6.20272710e-01,\n",
      "         6.28321517e+00, -1.53215576e-01,  9.30971164e-01,\n",
      "         6.28319966e+00,  2.17938300e+00,  6.47768507e+00,\n",
      "         5.98699311e-07,  4.90726121e+00,  1.97810897e+00,\n",
      "         2.03445244e-06,  4.12110726e+00,  1.97183850e+00,\n",
      "        -6.23645690e-06, -1.13544299e+00,  1.73757353e+00],\n",
      "       [ 6.28316979e+00,  5.48749085e+00,  1.39787203e+00,\n",
      "         2.42905357e-06,  5.42326077e+00,  6.69683676e-01,\n",
      "         6.28318827e+00,  2.93030775e+00, -2.32816989e+00,\n",
      "         6.28319756e+00,  1.75360677e+00,  6.20266557e-01,\n",
      "         6.28321395e+00, -1.53220217e-01,  9.30996549e-01,\n",
      "         6.28318732e+00,  2.17933867e+00,  6.47772814e+00,\n",
      "         1.30509967e-05,  4.90723022e+00,  1.97811733e+00,\n",
      "         1.14069185e-05,  4.12118107e+00,  1.97177708e+00,\n",
      "        -9.02268721e-06, -1.13545889e+00,  1.73758564e+00],\n",
      "       [ 6.28318835e+00,  5.48749550e+00,  1.39785969e+00,\n",
      "         8.05913453e-06,  5.42325134e+00,  6.69696778e-01,\n",
      "         6.28320234e+00,  2.93030988e+00, -2.32817903e+00,\n",
      "         6.28318698e+00,  1.75360896e+00,  6.20273631e-01,\n",
      "         6.28321915e+00, -1.53226041e-01,  9.30994811e-01,\n",
      "         6.28316724e+00,  2.17938969e+00,  6.47766587e+00,\n",
      "        -9.54008299e-06,  4.90724420e+00,  1.97811501e+00,\n",
      "        -8.80241774e-06,  4.12108468e+00,  1.97186494e+00,\n",
      "         7.24248852e-06, -1.13544668e+00,  1.73757554e+00]]), array([0.66573088, 0.66573088, 0.66573088, 0.66573088, 0.66573088,\n",
      "       0.66573088, 0.66573088, 0.66573088, 0.66573088, 0.66573088,\n",
      "       0.66573088, 0.66573088, 0.66573088, 0.66573088, 0.66573088,\n",
      "       0.66573088, 0.66573088, 0.66573088, 0.66573088, 0.66573088,\n",
      "       0.66573088, 0.66573088, 0.66573088, 0.66573088, 0.66573088,\n",
      "       0.66573088, 0.66573088, 0.66573088]))\n",
      "           fun: 0.6657308836778348\n",
      "       message: 'Optimization terminated successfully.'\n",
      "          nfev: 7272\n",
      "           nit: 5910\n",
      "        status: 0\n",
      "       success: True\n",
      "             x: array([ 6.28319048e+00,  5.48749222e+00,  1.39785794e+00,  1.16613237e-05,\n",
      "        5.42326009e+00,  6.69691428e-01,  6.28319406e+00,  2.93028850e+00,\n",
      "       -2.32814189e+00,  6.28317674e+00,  1.75361693e+00,  6.20273529e-01,\n",
      "        6.28322134e+00, -1.53220413e-01,  9.30979948e-01,  6.28318325e+00,\n",
      "        2.17941557e+00,  6.47764484e+00, -8.07071137e-06,  4.90724410e+00,\n",
      "        1.97811103e+00, -1.17682830e-06,  4.12110089e+00,  1.97185105e+00,\n",
      "        2.07629063e-06, -1.13543611e+00,  1.73756876e+00])\n"
     ]
    }
   ],
   "source": [
    "n = 3\n",
    "x0 = np.random.uniform(0, 2*np.pi, 9*n)\n",
    "res = minimize(get_avg_hs_ugates, x0, args=(qc_ugates, n), method='Nelder-Mead', options={'disp': True, 'maxiter': 10000})\n",
    "print(res)"
   ]
  },
  {
   "cell_type": "code",
   "execution_count": null,
   "metadata": {},
   "outputs": [],
   "source": []
  }
 ],
 "metadata": {
  "kernelspec": {
   "display_name": "Python 3",
   "language": "python",
   "name": "python3"
  },
  "language_info": {
   "codemirror_mode": {
    "name": "ipython",
    "version": 3
   },
   "file_extension": ".py",
   "mimetype": "text/x-python",
   "name": "python",
   "nbconvert_exporter": "python",
   "pygments_lexer": "ipython3",
   "version": "3.10.10"
  },
  "orig_nbformat": 4,
  "vscode": {
   "interpreter": {
    "hash": "e7370f93d1d0cde622a1f8e1c04877d8463912d04d973331ad4851f04de6915a"
   }
  }
 },
 "nbformat": 4,
 "nbformat_minor": 2
}
