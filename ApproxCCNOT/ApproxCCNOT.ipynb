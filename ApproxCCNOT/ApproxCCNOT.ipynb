{
 "cells": [
  {
   "cell_type": "code",
   "execution_count": 78,
   "metadata": {},
   "outputs": [],
   "source": [
    "from qiskit import *\n",
    "from qiskit.circuit import Parameter,ParameterVector\n",
    "from qiskit.quantum_info import Operator\n",
    "from qiskit.circuit.library import *\n",
    "from qiskit.visualization import array_to_latex, plot_histogram\n",
    "from qutip import hilbert_dist, Qobj, fock_dm\n",
    "\n",
    "import random\n",
    "\n",
    "import pyswarms as ps\n",
    "import pyswarms.backend as P\n",
    "from pyswarms.backend.topology import Star\n",
    "\n",
    "import numpy as np"
   ]
  },
  {
   "attachments": {},
   "cell_type": "markdown",
   "metadata": {},
   "source": [
    "First, lets take a look at the Toffoli gate"
   ]
  },
  {
   "cell_type": "code",
   "execution_count": 3,
   "metadata": {},
   "outputs": [
    {
     "name": "stderr",
     "output_type": "stream",
     "text": [
      "2023-02-21 23:42:10,472 - qiskit.transpiler.runningpassmanager - INFO - Pass: ContainsInstruction - 0.01764 (ms)\n",
      "2023-02-21 23:42:10,474 - qiskit.transpiler.runningpassmanager - INFO - Pass: UnitarySynthesis - 0.00620 (ms)\n",
      "2023-02-21 23:42:10,478 - qiskit.transpiler.runningpassmanager - INFO - Pass: HighLevelSynthesis - 0.37885 (ms)\n",
      "2023-02-21 23:42:10,481 - qiskit.transpiler.runningpassmanager - INFO - Pass: UnrollCustomDefinitions - 0.12040 (ms)\n",
      "2023-02-21 23:42:10,484 - qiskit.transpiler.passes.basis.basis_translator - INFO - Begin BasisTranslator from source basis {('ccx', 3)} to target basis {'delay', 'snapshot', 'measure', 'sx', 'u3', 'x', 'id', 'rz', 'barrier', 'u1', 'reset', 'unitary', 'u2', 'cx'}.\n",
      "2023-02-21 23:42:10,489 - qiskit.transpiler.passes.basis.basis_translator - INFO - Basis translation path search completed in 0.003s.\n",
      "2023-02-21 23:42:10,496 - qiskit.transpiler.passes.basis.basis_translator - INFO - Basis translation paths composed in 0.006s.\n",
      "2023-02-21 23:42:10,497 - qiskit.transpiler.passes.basis.basis_translator - INFO - Basis translation instructions replaced in 0.000s.\n",
      "2023-02-21 23:42:10,498 - qiskit.transpiler.runningpassmanager - INFO - Pass: BasisTranslator - 14.94551 (ms)\n",
      "2023-02-21 23:42:10,499 - qiskit.transpiler.runningpassmanager - INFO - Pass: RemoveResetInZeroState - 0.03386 (ms)\n",
      "2023-02-21 23:42:10,500 - qiskit.transpiler.runningpassmanager - INFO - Pass: Depth - 0.07439 (ms)\n",
      "2023-02-21 23:42:10,501 - qiskit.transpiler.runningpassmanager - INFO - Pass: FixedPoint - 0.01836 (ms)\n",
      "2023-02-21 23:42:10,502 - qiskit.transpiler.runningpassmanager - INFO - Pass: Size - 0.05245 (ms)\n",
      "2023-02-21 23:42:10,503 - qiskit.transpiler.runningpassmanager - INFO - Pass: FixedPoint - 0.01884 (ms)\n",
      "2023-02-21 23:42:10,507 - qiskit.transpiler.runningpassmanager - INFO - Pass: Optimize1qGatesDecomposition - 2.95877 (ms)\n",
      "2023-02-21 23:42:10,508 - qiskit.transpiler.runningpassmanager - INFO - Pass: CXCancellation - 0.11683 (ms)\n",
      "2023-02-21 23:42:10,510 - qiskit.transpiler.runningpassmanager - INFO - Pass: GatesInBasis - 0.07749 (ms)\n",
      "2023-02-21 23:42:10,512 - qiskit.transpiler.runningpassmanager - INFO - Pass: Depth - 0.08082 (ms)\n",
      "2023-02-21 23:42:10,514 - qiskit.transpiler.runningpassmanager - INFO - Pass: FixedPoint - 0.01812 (ms)\n",
      "2023-02-21 23:42:10,515 - qiskit.transpiler.runningpassmanager - INFO - Pass: Size - 0.05031 (ms)\n",
      "2023-02-21 23:42:10,516 - qiskit.transpiler.runningpassmanager - INFO - Pass: FixedPoint - 0.01740 (ms)\n",
      "2023-02-21 23:42:10,521 - qiskit.transpiler.runningpassmanager - INFO - Pass: Optimize1qGatesDecomposition - 4.46272 (ms)\n",
      "2023-02-21 23:42:10,523 - qiskit.transpiler.runningpassmanager - INFO - Pass: CXCancellation - 0.10157 (ms)\n",
      "2023-02-21 23:42:10,524 - qiskit.transpiler.runningpassmanager - INFO - Pass: GatesInBasis - 0.06866 (ms)\n",
      "2023-02-21 23:42:10,525 - qiskit.transpiler.runningpassmanager - INFO - Pass: Depth - 0.07892 (ms)\n",
      "2023-02-21 23:42:10,527 - qiskit.transpiler.runningpassmanager - INFO - Pass: FixedPoint - 0.01740 (ms)\n",
      "2023-02-21 23:42:10,528 - qiskit.transpiler.runningpassmanager - INFO - Pass: Size - 0.05364 (ms)\n",
      "2023-02-21 23:42:10,529 - qiskit.transpiler.runningpassmanager - INFO - Pass: FixedPoint - 0.01669 (ms)\n",
      "2023-02-21 23:42:10,530 - qiskit.transpiler.runningpassmanager - INFO - Pass: ContainsInstruction - 0.05460 (ms)\n",
      "2023-02-21 23:42:10,531 - qiskit.compiler.transpiler - INFO - Total Transpile Time - 65.13023 (ms)\n",
      "2023-02-21 23:42:10,533 - qiskit.compiler.assembler - INFO - Total Assembly Time - 0.13065 (ms)\n",
      "2023-02-21 23:42:10,534 - qiskit.providers.basicaer.unitary_simulator - INFO - \"unitary_simulator\" only supports 1 shot. Setting shots=1.\n"
     ]
    },
    {
     "data": {
      "text/latex": [
       "$$\n",
       "\n",
       "\\begin{bmatrix}\n",
       "1 & 0 & 0 & 0 & 0 & 0 & 0 & 0  \\\\\n",
       " 0 & 1 & 0 & 0 & 0 & 0 & 0 & 0  \\\\\n",
       " 0 & 0 & 1 & 0 & 0 & 0 & 0 & 0  \\\\\n",
       " 0 & 0 & 0 & 0 & 0 & 0 & 0 & 1  \\\\\n",
       " 0 & 0 & 0 & 0 & 1 & 0 & 0 & 0  \\\\\n",
       " 0 & 0 & 0 & 0 & 0 & 1 & 0 & 0  \\\\\n",
       " 0 & 0 & 0 & 0 & 0 & 0 & 1 & 0  \\\\\n",
       " 0 & 0 & 0 & 1 & 0 & 0 & 0 & 0  \\\\\n",
       " \\end{bmatrix}\n",
       "$$"
      ],
      "text/plain": [
       "<IPython.core.display.Latex object>"
      ]
     },
     "execution_count": 3,
     "metadata": {},
     "output_type": "execute_result"
    }
   ],
   "source": [
    "qc = QuantumCircuit(3)\n",
    "qc.ccx(0, 1, 2)\n",
    "backend = BasicAer.get_backend('unitary_simulator')\n",
    "job = backend.run(transpile(qc, backend))\n",
    "ccx_gate = job.result().get_unitary(qc, decimals=2)\n",
    "array_to_latex(ccx_gate)"
   ]
  },
  {
   "attachments": {},
   "cell_type": "markdown",
   "metadata": {},
   "source": [
    "We can use the Hilbert Schmitt distance from the qutip library to get the hilbert distance between this and itself. Which of course will be 0"
   ]
  },
  {
   "cell_type": "code",
   "execution_count": 4,
   "metadata": {},
   "outputs": [],
   "source": [
    "def get_hilbert_shmidt_distance(gate1, gate2):\n",
    "    return hilbert_dist(Qobj(gate1), Qobj(gate2))\n",
    "\n",
    "def my_hilbert_schmidt_distance(gate1, gate2):\n",
    "    return np.sqrt(1 - (np.abs(np.trace(np.conj(gate1).T @ gate2))**2) / (2**3)**2)"
   ]
  },
  {
   "cell_type": "code",
   "execution_count": 5,
   "metadata": {},
   "outputs": [
    {
     "name": "stdout",
     "output_type": "stream",
     "text": [
      "Hilbert Schmidt Distance of CCX with itself:  0.0\n",
      "My Hilbert Schmidt Distance of CCX with itself:  0.0\n"
     ]
    }
   ],
   "source": [
    "print(\"Hilbert Schmidt Distance of CCX with itself: \", get_hilbert_shmidt_distance(ccx_gate, ccx_gate))\n",
    "print(\"My Hilbert Schmidt Distance of CCX with itself: \", my_hilbert_schmidt_distance(ccx_gate, ccx_gate))"
   ]
  },
  {
   "cell_type": "code",
   "execution_count": 63,
   "metadata": {},
   "outputs": [],
   "source": [
    "class SingleQubitU(Gate):\n",
    "    def __init__(self, theta, phi, lam):\n",
    "        super().__init__('U1', 1, [theta, phi, lam])\n",
    "    \n",
    "    def _define(self):\n",
    "        qc = QuantumCircuit(1)\n",
    "        qc.unitary(self.to_matrix(), [0])\n",
    "        self.definition = qc\n",
    "    \n",
    "    def to_matrix(self):\n",
    "        theta = float(self.params[0])\n",
    "        phi = float(self.params[1])\n",
    "        lam = float(self.params[2])\n",
    "        return UGate(theta, phi, lam).to_matrix()\n",
    "        # return np.array([[np.cos(theta/2), -np.exp(1.j * lam) * np.sin(theta/2)],\n",
    "        #                  [np.exp(1.j * phi) * np.sin(theta/2), np.exp(1.j * (phi + lam)) * np.cos(theta/2)]])"
   ]
  },
  {
   "cell_type": "code",
   "execution_count": 64,
   "metadata": {},
   "outputs": [],
   "source": [
    "class TwoQubitU(Gate):\n",
    "    def __init__(self, alpha1, alpha2, alpha3):\n",
    "        super().__init__('U2', 2, [alpha1, alpha2, alpha3])\n",
    "    def _define(self):\n",
    "        qc = QuantumCircuit(2)\n",
    "        qc.unitary(self.to_matrix(), [0, 1])\n",
    "        self.definition = qc\n",
    "    def to_matrix(self):\n",
    "        alpha1 = float(self.params[0])\n",
    "        alpha2 = float(self.params[1])\n",
    "        alpha3 = float(self.params[2])\n",
    "\n",
    "        rxx_gate = RXXGate(alpha1).to_matrix()\n",
    "        ryy_gate = RYYGate(alpha2).to_matrix()\n",
    "        rzz_gate = RZZGate(alpha3).to_matrix()\n",
    "        return rxx_gate @ ryy_gate @ rzz_gate \n",
    "\n",
    "        # return np.array([[np.cos(alpha1/2), 0, 0, -np.exp(1.j * alpha3) * np.sin(alpha1/2)],\n",
    "        #                  [0, np.cos(alpha2/2), -np.exp(1.j * alpha3) * np.sin(alpha2/2), 0],\n",
    "        #                  [0, -np.exp(1.j * alpha3) * np.sin(alpha2/2), np.cos(alpha2/2), 0],\n",
    "        #                  [-np.exp(1.j * alpha3) * np.sin(alpha1/2), 0, 0, np.cos(alpha1/2)]])\n",
    "    "
   ]
  },
  {
   "cell_type": "code",
   "execution_count": 65,
   "metadata": {},
   "outputs": [],
   "source": [
    "class ParamVectorItterator:\n",
    "    def __init__(self, param_vector):\n",
    "        self.param_vector = param_vector\n",
    "        self.index = 0\n",
    "    def __iter__(self):\n",
    "        return self\n",
    "    def __next__(self):\n",
    "        if self.index < len(self.param_vector):\n",
    "            start = self.index\n",
    "            end = self.index + 3\n",
    "            params = self.param_vector[start:end]\n",
    "            self.index += 3\n",
    "            return params\n",
    "        else:\n",
    "            raise StopIteration"
   ]
  },
  {
   "cell_type": "code",
   "execution_count": 66,
   "metadata": {},
   "outputs": [
    {
     "data": {
      "image/png": "[encoded data removed]",
      "text/plain": [
       "<Figure size 2210.55x618.722 with 1 Axes>"
      ]
     },
     "execution_count": 66,
     "metadata": {},
     "output_type": "execute_result"
    }
   ],
   "source": [
    "approx_CCNOT_qc = QuantumCircuit(3, name=\"Approx CCNOT\")\n",
    "\n",
    "# Define parameters\n",
    "theta = Parameter('theta')\n",
    "phi = Parameter('phi')\n",
    "lam = Parameter('lam')\n",
    "\n",
    "num_U1_params = 3 * 11\n",
    "num_U2_params = 3 * 4\n",
    "\n",
    "pU1 = ParameterVector('pU1', num_U1_params)\n",
    "pU1_itter = ParamVectorItterator(pU1)\n",
    "pU2 = ParameterVector('pU2', num_U2_params)\n",
    "pU2_itter = ParamVectorItterator(pU2)\n",
    "\n",
    "# Create the circuit\n",
    "i = 0\n",
    "approx_CCNOT_qc.append(SingleQubitU(*next(pU1_itter)), [0])\n",
    "approx_CCNOT_qc.append(SingleQubitU(*next(pU1_itter)), [1])\n",
    "approx_CCNOT_qc.append(SingleQubitU(*next(pU1_itter)), [2])\n",
    "\n",
    "approx_CCNOT_qc.append(TwoQubitU(*next(pU2_itter)), [0, 1])\n",
    "\n",
    "approx_CCNOT_qc.append(SingleQubitU(*next(pU1_itter)), [1])\n",
    "\n",
    "approx_CCNOT_qc.append(SingleQubitU(*next(pU1_itter)), [0])\n",
    "approx_CCNOT_qc.append(TwoQubitU(*next(pU2_itter)), [1, 2])\n",
    "\n",
    "approx_CCNOT_qc.append(SingleQubitU(*next(pU1_itter)), [1])\n",
    "\n",
    "approx_CCNOT_qc.append(TwoQubitU(*next(pU2_itter)), [0, 1])\n",
    "\n",
    "approx_CCNOT_qc.append(SingleQubitU(*next(pU1_itter)), [0])\n",
    "approx_CCNOT_qc.append(SingleQubitU(*next(pU1_itter)), [1])\n",
    "approx_CCNOT_qc.append(SingleQubitU(*next(pU1_itter)), [2])\n",
    "\n",
    "approx_CCNOT_qc.append(TwoQubitU(*next(pU2_itter)), [0, 2])\n",
    "\n",
    "approx_CCNOT_qc.append(SingleQubitU(*next(pU1_itter)), [0])\n",
    "approx_CCNOT_qc.append(SingleQubitU(*next(pU1_itter)), [2])\n",
    "\n",
    "approx_CCNOT_qc.draw(output='mpl')"
   ]
  },
  {
   "cell_type": "code",
   "execution_count": 67,
   "metadata": {},
   "outputs": [],
   "source": [
    "def opt_func(vals):\n",
    "    distances = []\n",
    "    for p in vals:\n",
    "        # Get the circuit\n",
    "        bound_approx_CCNOT = approx_CCNOT_qc.bind_parameters({pU1: p[:num_U1_params], pU2: p[num_U1_params:]})\n",
    "\n",
    "        # Get the matrix\n",
    "        approx_CCNOT_matrix = Operator(bound_approx_CCNOT).data\n",
    "\n",
    "        # Get the distance\n",
    "        distances.append(my_hilbert_schmidt_distance(ccx_gate, approx_CCNOT_matrix))\n",
    "\n",
    "    return distances"
   ]
  },
  {
   "cell_type": "code",
   "execution_count": 81,
   "metadata": {},
   "outputs": [
    {
     "name": "stderr",
     "output_type": "stream",
     "text": [
      "2023-02-22 01:24:55,188 - pyswarms.single.global_best - INFO - Optimize for 2500 iters with {'c1': 0.5, 'c2': 0.3, 'w': 0.9}\n",
      "pyswarms.single.global_best: 100%|██████████|2500/2500, best_cost=0.4  \n",
      "2023-02-22 01:51:01,533 - pyswarms.single.global_best - INFO - Optimization finished | best cost: 0.40029853768527124, best pos: [3.34348164 3.07273385 1.80918787 1.86142114 2.69048959 2.75856882\n",
      " 2.6966173  3.98877677 4.48119064 1.30269057 3.1924323  3.57432923\n",
      " 3.11916873 2.31955996 3.14207827 2.97143851 3.95714758 3.67429452\n",
      " 2.74768071 2.79130706 3.14695887 3.26647049 1.86623073 5.28498969\n",
      " 3.59729151 2.60593143 4.53867312 3.43628764 2.5265043  3.11791517\n",
      " 3.22077869 3.29784085 1.59540476 3.86019144 4.4044914  5.39163988\n",
      " 4.75421775 4.41644388 2.34500316 3.44966995 3.86272276 2.96784368\n",
      " 1.51685901 3.35502147 3.15006652]\n"
     ]
    },
    {
     "name": "stdout",
     "output_type": "stream",
     "text": [
      "Total cost:  0.40029853768527124\n",
      "Best position:  [3.34348164 3.07273385 1.80918787 1.86142114 2.69048959 2.75856882\n",
      " 2.6966173  3.98877677 4.48119064 1.30269057 3.1924323  3.57432923\n",
      " 3.11916873 2.31955996 3.14207827 2.97143851 3.95714758 3.67429452\n",
      " 2.74768071 2.79130706 3.14695887 3.26647049 1.86623073 5.28498969\n",
      " 3.59729151 2.60593143 4.53867312 3.43628764 2.5265043  3.11791517\n",
      " 3.22077869 3.29784085 1.59540476 3.86019144 4.4044914  5.39163988\n",
      " 4.75421775 4.41644388 2.34500316 3.44966995 3.86272276 2.96784368\n",
      " 1.51685901 3.35502147 3.15006652]\n"
     ]
    }
   ],
   "source": [
    "options = {'c1': 0.5, 'c2': 0.3, 'w':0.9}\n",
    "bounds = (np.repeat(0, num_U1_params + num_U2_params), np.repeat(2*np.pi, num_U1_params + num_U2_params))\n",
    "init_pos = np.array([best_pos_thus_far for _ in range(250)])\n",
    "optimizer = ps.single.GlobalBestPSO(n_particles=250, dimensions=num_U1_params + num_U2_params, options=options, bounds=bounds)\n",
    "cost, pos = optimizer.optimize(opt_func, iters=2500)\n",
    "\n",
    "print(\"Total cost: \", cost)\n",
    "print(\"Best position: \", pos)"
   ]
  },
  {
   "cell_type": "code",
   "execution_count": 82,
   "metadata": {},
   "outputs": [
    {
     "name": "stdout",
     "output_type": "stream",
     "text": [
      "Best params so far: [3.34348164 3.07273385 1.80918787 1.86142114 2.69048959 2.75856882\n",
      " 2.6966173  3.98877677 4.48119064 1.30269057 3.1924323  3.57432923\n",
      " 3.11916873 2.31955996 3.14207827 2.97143851 3.95714758 3.67429452\n",
      " 2.74768071 2.79130706 3.14695887 3.26647049 1.86623073 5.28498969\n",
      " 3.59729151 2.60593143 4.53867312 3.43628764 2.5265043  3.11791517\n",
      " 3.22077869 3.29784085 1.59540476 3.86019144 4.4044914  5.39163988\n",
      " 4.75421775 4.41644388 2.34500316 3.44966995 3.86272276 2.96784368\n",
      " 1.51685901 3.35502147 3.15006652]\n"
     ]
    }
   ],
   "source": [
    "best_pos_thus_far = pos\n",
    "\n",
    "bound_approx_CCNOT = approx_CCNOT_qc.bind_parameters({pU1: best_pos_thus_far[:num_U1_params], pU2: best_pos_thus_far[num_U1_params:]})\n",
    "array_to_latex\n",
    "print(f\"Best params so far: {best_pos_thus_far}\")"
   ]
  },
  {
   "cell_type": "code",
   "execution_count": 53,
   "metadata": {},
   "outputs": [],
   "source": [
    "topology = Star()\n",
    "options = {'c1': 0.5, 'c2': 0.3, 'w': 0.9}\n",
    "bounds = (np.repeat(0, num_U1_params + num_U2_params), np.repeat(np.pi, num_U1_params + num_U2_params))\n",
    "swarm = P.create_swarm(n_particles=50, dimensions=num_U1_params + num_U2_params, options=options, bounds=bounds)\n",
    "swarm.position = np.array([pos for _ in range(50)])"
   ]
  },
  {
   "cell_type": "code",
   "execution_count": 54,
   "metadata": {},
   "outputs": [
    {
     "ename": "IndexError",
     "evalue": "invalid index to scalar variable.",
     "output_type": "error",
     "traceback": [
      "\u001b[0;31m---------------------------------------------------------------------------\u001b[0m",
      "\u001b[0;31mIndexError\u001b[0m                                Traceback (most recent call last)",
      "Cell \u001b[0;32mIn [54], line 7\u001b[0m\n\u001b[1;32m      5\u001b[0m swarm\u001b[39m.\u001b[39mpbest_cost \u001b[39m=\u001b[39m opt_func(swarm\u001b[39m.\u001b[39mpbest_pos)\n\u001b[1;32m      6\u001b[0m \u001b[39m# Update and store\u001b[39;00m\n\u001b[0;32m----> 7\u001b[0m swarm\u001b[39m.\u001b[39mpbest_pos, swarm\u001b[39m.\u001b[39mpbest_cost \u001b[39m=\u001b[39m P\u001b[39m.\u001b[39;49mcompute_pbest(swarm)\n\u001b[1;32m      9\u001b[0m \u001b[39m# Step 2 - Update the global best\u001b[39;00m\n\u001b[1;32m     10\u001b[0m \u001b[39mif\u001b[39;00m np\u001b[39m.\u001b[39mmin(swarm\u001b[39m.\u001b[39mpbest_cost) \u001b[39m<\u001b[39m swarm\u001b[39m.\u001b[39mbest_cost:\n",
      "File \u001b[0;32m~/.local/lib/python3.10/site-packages/pyswarms/backend/operators.py:67\u001b[0m, in \u001b[0;36mcompute_pbest\u001b[0;34m(swarm)\u001b[0m\n\u001b[1;32m     65\u001b[0m \u001b[39m# Create a 1-D and 2-D mask based from comparisons\u001b[39;00m\n\u001b[1;32m     66\u001b[0m mask_cost \u001b[39m=\u001b[39m swarm\u001b[39m.\u001b[39mcurrent_cost \u001b[39m<\u001b[39m swarm\u001b[39m.\u001b[39mpbest_cost\n\u001b[0;32m---> 67\u001b[0m mask_pos \u001b[39m=\u001b[39m np\u001b[39m.\u001b[39mrepeat(mask_cost[:, np\u001b[39m.\u001b[39;49mnewaxis], dimensions, axis\u001b[39m=\u001b[39m\u001b[39m1\u001b[39m)\n\u001b[1;32m     68\u001b[0m \u001b[39m# Apply masks\u001b[39;00m\n\u001b[1;32m     69\u001b[0m new_pbest_pos \u001b[39m=\u001b[39m np\u001b[39m.\u001b[39mwhere(\u001b[39m~\u001b[39mmask_pos, swarm\u001b[39m.\u001b[39mpbest_pos, swarm\u001b[39m.\u001b[39mposition)\n",
      "\u001b[0;31mIndexError\u001b[0m: invalid index to scalar variable."
     ]
    }
   ],
   "source": [
    "itterations = 1000\n",
    "for i in range(itterations):\n",
    "    # Set currebt and best cost\n",
    "    swarm.current_cost = opt_func(swarm.position)\n",
    "    swarm.pbest_cost = opt_func(swarm.pbest_pos)\n",
    "    # Update and store\n",
    "    swarm.pbest_pos, swarm.pbest_cost = P.compute_pbest(swarm)\n",
    "\n",
    "    # Step 2 - Update the global best\n",
    "    if np.min(swarm.pbest_cost) < swarm.best_cost:\n",
    "        swarm.best_pos, swarm.best_cost = topology.compute_gbest(swarm)\n",
    "\n",
    "\n",
    "    if i%10 == 0:\n",
    "        print(f\"Iteration: {i}, Best Cost: {swarm.best_cost}\")\n",
    "    \n",
    "    # Step 3 - Update velocity and position matrices\n",
    "    swarm.velocity = topology.compute_velocity(swarm)\n",
    "    swarm.position = topology.compute_position(swarm)\n",
    "    \n",
    "print(f\"Best Cost: {swarm.best_cost}\")\n",
    "print(f\"Best Position: {swarm.best_pos}\")"
   ]
  },
  {
   "cell_type": "code",
   "execution_count": 83,
   "metadata": {},
   "outputs": [],
   "source": [
    "\n",
    "vals = np.repeat(np.pi/3, num_U1_params + num_U2_params)\n",
    "bound_qc = approx_CCNOT_qc.bind_parameters({pU1: vals[:num_U1_params], pU2: vals[num_U1_params:]})"
   ]
  }
 ],
 "metadata": {
  "kernelspec": {
   "display_name": "Python 3",
   "language": "python",
   "name": "python3"
  },
  "language_info": {
   "codemirror_mode": {
    "name": "ipython",
    "version": 3
   },
   "file_extension": ".py",
   "mimetype": "text/x-python",
   "name": "python",
   "nbconvert_exporter": "python",
   "pygments_lexer": "ipython3",
   "version": "3.10.9"
  },
  "orig_nbformat": 4,
  "vscode": {
   "interpreter": {
    "hash": "e7370f93d1d0cde622a1f8e1c04877d8463912d04d973331ad4851f04de6915a"
   }
  }
 },
 "nbformat": 4,
 "nbformat_minor": 2
}
