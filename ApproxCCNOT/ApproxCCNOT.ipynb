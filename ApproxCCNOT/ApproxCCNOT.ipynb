{
 "cells": [
  {
   "attachments": {},
   "cell_type": "markdown",
   "metadata": {},
   "source": [
    "Ryan Dougherty - 606085269"
   ]
  },
  {
   "cell_type": "code",
   "execution_count": 2,
   "metadata": {},
   "outputs": [],
   "source": [
    "from qiskit import *\n",
    "from qiskit.circuit import Parameter,ParameterVector, Gate\n",
    "from qiskit.quantum_info import Operator\n",
    "from qiskit.circuit.library import *\n",
    "from qiskit.visualization import array_to_latex, plot_histogram\n",
    "from qutip import hilbert_dist, Qobj, fock_dm\n",
    "\n",
    "import random\n",
    "\n",
    "import pyswarms as ps\n",
    "import pyswarms.backend as P\n",
    "from pyswarms.backend.topology import Star\n",
    "\n",
    "from scipy.optimize import minimize\n",
    "\n",
    "import numpy as np\n",
    "import matplotlib.pyplot as plt"
   ]
  },
  {
   "attachments": {},
   "cell_type": "markdown",
   "metadata": {},
   "source": [
    "## Introduction\n",
    "\n",
    "To optimize a generic 3 qubit unitary, we can build it using a set of generic rotation gates composed of 11 single qubit unitaries and 4 two qubit unitaries. This process is outlined in the paper 'Optimal Implementation of Quantum Gates with Two Controls:\n",
    "A Detailed Proof' by Jens Palsberg and Nengkun Yu. In this assignement we used the methods in this paper to find an approximiate solution to the Toffoli gate (CCNOT) using only 4 two qubit gates. I was able to measure how close my generated Toffoli gate was to the original by comparing it to the Hilbert Schmidt distance which is outlined later."
   ]
  },
  {
   "attachments": {},
   "cell_type": "markdown",
   "metadata": {},
   "source": [
    "## The Toffoli Gate and the Hilbert Schmidt Distance\n",
    "Here's the native Toffoli gate from qiskit:"
   ]
  },
  {
   "cell_type": "code",
   "execution_count": 3,
   "metadata": {},
   "outputs": [
    {
     "data": {
      "text/latex": [
       "$$\n",
       "\n",
       "\\begin{bmatrix}\n",
       "1 & 0 & 0 & 0 & 0 & 0 & 0 & 0  \\\\\n",
       " 0 & 1 & 0 & 0 & 0 & 0 & 0 & 0  \\\\\n",
       " 0 & 0 & 1 & 0 & 0 & 0 & 0 & 0  \\\\\n",
       " 0 & 0 & 0 & 0 & 0 & 0 & 0 & 1  \\\\\n",
       " 0 & 0 & 0 & 0 & 1 & 0 & 0 & 0  \\\\\n",
       " 0 & 0 & 0 & 0 & 0 & 1 & 0 & 0  \\\\\n",
       " 0 & 0 & 0 & 0 & 0 & 0 & 1 & 0  \\\\\n",
       " 0 & 0 & 0 & 1 & 0 & 0 & 0 & 0  \\\\\n",
       " \\end{bmatrix}\n",
       "$$"
      ],
      "text/plain": [
       "<IPython.core.display.Latex object>"
      ]
     },
     "execution_count": 3,
     "metadata": {},
     "output_type": "execute_result"
    }
   ],
   "source": [
    "qc = QuantumCircuit(3)\n",
    "qc.ccx(0, 1, 2)\n",
    "ccx_gate = Operator(qc).data\n",
    "array_to_latex(ccx_gate)"
   ]
  },
  {
   "attachments": {},
   "cell_type": "markdown",
   "metadata": {},
   "source": [
    "## Hilbert Schmidt Distance\n",
    "\n",
    "Next steps is to to have a function to measure the 'closeness' to an approximate matrix. This can be done simply with the Hilbert Schmidt Distance. This is given by the following fromula from Jens' paper 'Approximate Quantum Computing':\n",
    "\n",
    "$$d(U,V) = \\sqrt{1-\\frac{\\|Tr(U^{\\dagger}V)\\|^2}{N^2}}$$\n",
    "\n",
    "Where $Tr(U)$ is the trace of U and $N=2^n$. This will give us the absolute value of the Hilbert Schmidt distance (a real value), which will be eaasy to optimize around. I've defined this function below in `my_hilbert_schmidt_distance`. I've also defined an additional function `get_hilbert_shmidt_distance` which returns the 2d imaginary Hilbert Schmidt distance. This definition comes from the qutip library and I use it later to do some further optimization."
   ]
  },
  {
   "cell_type": "code",
   "execution_count": 4,
   "metadata": {},
   "outputs": [],
   "source": [
    "def get_hilbert_shmidt_distance(gate1, gate2):\n",
    "    return hilbert_dist(Qobj(gate1), Qobj(gate2))\n",
    "\n",
    "def my_hilbert_schmidt_distance(gate1, gate2):\n",
    "    return np.sqrt(1 - (np.abs(np.trace(np.conj(gate1).T @ gate2))**2) / (2**3)**2)"
   ]
  },
  {
   "cell_type": "code",
   "execution_count": 5,
   "metadata": {},
   "outputs": [
    {
     "name": "stdout",
     "output_type": "stream",
     "text": [
      "Hilbert Schmidt Distance of CCX with itself:  0.0\n",
      "My Hilbert Schmidt Distance of CCX with itself:  0.0\n"
     ]
    }
   ],
   "source": [
    "print(\"Hilbert Schmidt Distance of CCX with itself: \", get_hilbert_shmidt_distance(ccx_gate, ccx_gate))\n",
    "print(\"My Hilbert Schmidt Distance of CCX with itself: \", my_hilbert_schmidt_distance(ccx_gate, ccx_gate))"
   ]
  },
  {
   "attachments": {},
   "cell_type": "markdown",
   "metadata": {},
   "source": [
    "## Building the Circuit\n",
    "We can build the circuit with 11 single qubit gates which can simply be made with qiskit's UGate. This is a generic rotation matrix of three dimensions defined by:"
   ]
  },
  {
   "cell_type": "code",
   "execution_count": 6,
   "metadata": {},
   "outputs": [],
   "source": [
    "class SingleQubitU(Gate):\n",
    "    def __init__(self, theta, phi, lam):\n",
    "        super().__init__('U1', 1, [theta, phi, lam])\n",
    "    \n",
    "    def _define(self):\n",
    "        qc = QuantumCircuit(1)\n",
    "        qc.unitary(self.to_matrix(), [0])\n",
    "        self.definition = qc\n",
    "    \n",
    "    def to_matrix(self):\n",
    "        theta = float(self.params[0])\n",
    "        phi = float(self.params[1])\n",
    "        lam = float(self.params[2])\n",
    "        return UGate(theta, phi, lam).to_matrix()"
   ]
  },
  {
   "attachments": {},
   "cell_type": "markdown",
   "metadata": {},
   "source": [
    "Next, we can define a generic two qubit unitary using RXX, RYY, and RZZ gates like so:"
   ]
  },
  {
   "cell_type": "code",
   "execution_count": 7,
   "metadata": {},
   "outputs": [],
   "source": [
    "class TwoQubitU(Gate):\n",
    "    def __init__(self, alpha1, alpha2, alpha3):\n",
    "        super().__init__('U2', 2, [alpha1, alpha2, alpha3])\n",
    "    def _define(self):\n",
    "        qc = QuantumCircuit(2)\n",
    "        qc.unitary(self.to_matrix(), [0, 1])\n",
    "        self.definition = qc\n",
    "    def to_matrix(self):\n",
    "        alpha1 = float(self.params[0])\n",
    "        alpha2 = float(self.params[1])\n",
    "        alpha3 = float(self.params[2])\n",
    "\n",
    "        rxx_gate = RXXGate(alpha1).to_matrix()\n",
    "        ryy_gate = RYYGate(alpha2).to_matrix()\n",
    "        rzz_gate = RZZGate(alpha3).to_matrix()\n",
    "\n",
    "        return rxx_gate @ ryy_gate @ rzz_gate"
   ]
  },
  {
   "cell_type": "code",
   "execution_count": 8,
   "metadata": {},
   "outputs": [],
   "source": [
    "class ParamVectorItterator:\n",
    "    def __init__(self, param_vector):\n",
    "        self.param_vector = param_vector\n",
    "        self.index = 0\n",
    "    def __iter__(self):\n",
    "        return self\n",
    "    def __next__(self):\n",
    "        if self.index < len(self.param_vector):\n",
    "            start = self.index\n",
    "            end = self.index + 3\n",
    "            params = self.param_vector[start:end]\n",
    "            self.index += 3\n",
    "            return params\n",
    "        else:\n",
    "            raise StopIteration"
   ]
  },
  {
   "attachments": {},
   "cell_type": "markdown",
   "metadata": {},
   "source": [
    "From the paper, we know its possible to build a generic gate with 4 two qubit unitaries in the order $U_{AB}U_{BC}U_{AB}U_{AC}$. We then surround the space around the 4 unitaries with 11 single qubit unitaries. The circuit is outlined below. Each Unitary has a set of 3 rotation parameters assigned to them, allowing for a total of 45 degrees of freedom."
   ]
  },
  {
   "cell_type": "code",
   "execution_count": 10,
   "metadata": {},
   "outputs": [
    {
     "data": {
      "image/png": "[encoded data removed]",
      "text/plain": [
       "<Figure size 2210.55x618.722 with 1 Axes>"
      ]
     },
     "execution_count": 10,
     "metadata": {},
     "output_type": "execute_result"
    }
   ],
   "source": [
    "approx_CCNOT_qc = QuantumCircuit(3, name=\"Approx CCNOT\")\n",
    "\n",
    "# Define parameters\n",
    "theta = Parameter('theta')\n",
    "phi = Parameter('phi')\n",
    "lam = Parameter('lam')\n",
    "\n",
    "num_U1_params = 3 * 11\n",
    "num_U2_params = 3 * 4\n",
    "\n",
    "pU1 = ParameterVector('pU1', num_U1_params)\n",
    "pU1_itter = ParamVectorItterator(pU1)\n",
    "pU2 = ParameterVector('pU2', num_U2_params)\n",
    "pU2_itter = ParamVectorItterator(pU2)\n",
    "\n",
    "# Create the circuit\n",
    "approx_CCNOT_qc.append(SingleQubitU(*next(pU1_itter)), [0])\n",
    "approx_CCNOT_qc.append(SingleQubitU(*next(pU1_itter)), [1])\n",
    "approx_CCNOT_qc.append(SingleQubitU(*next(pU1_itter)), [2])\n",
    "\n",
    "approx_CCNOT_qc.append(TwoQubitU(*next(pU2_itter)), [0, 1])\n",
    "\n",
    "approx_CCNOT_qc.append(SingleQubitU(*next(pU1_itter)), [1])\n",
    "\n",
    "approx_CCNOT_qc.append(SingleQubitU(*next(pU1_itter)), [0])\n",
    "approx_CCNOT_qc.append(TwoQubitU(*next(pU2_itter)), [1, 2])\n",
    "\n",
    "approx_CCNOT_qc.append(SingleQubitU(*next(pU1_itter)), [1])\n",
    "\n",
    "approx_CCNOT_qc.append(TwoQubitU(*next(pU2_itter)), [0, 1])\n",
    "\n",
    "approx_CCNOT_qc.append(SingleQubitU(*next(pU1_itter)), [0])\n",
    "approx_CCNOT_qc.append(SingleQubitU(*next(pU1_itter)), [1])\n",
    "approx_CCNOT_qc.append(SingleQubitU(*next(pU1_itter)), [2])\n",
    "\n",
    "approx_CCNOT_qc.append(TwoQubitU(*next(pU2_itter)), [0, 2])\n",
    "\n",
    "approx_CCNOT_qc.append(SingleQubitU(*next(pU1_itter)), [0])\n",
    "approx_CCNOT_qc.append(SingleQubitU(*next(pU1_itter)), [2])\n",
    "\n",
    "approx_CCNOT_qc.draw(output='mpl')"
   ]
  },
  {
   "attachments": {},
   "cell_type": "markdown",
   "metadata": {},
   "source": [
    "## Finding a Solution Using Swarm Optimization\n",
    "We need to find a set of parameters that will closely approximate a Toffoli using this circuit. An algorithm I've chosen to use is Swarm Optimization. A detailed description of the algorithm can be found here: https://machinelearningmastery.com/a-gentle-introduction-to-particle-swarm-optimization/\n",
    "\n",
    "In a nutshell, it uses a randomly distributed amount of points that query the function. They all move about the inout space and have the ability to 'talk' to eachother, where if one particle finds a global minimum, it'll tell the rest. This causes nearby particles to 'swarm' towards it. The grouped up particles will repeatedly swarm about the current global minimum until they unconver an even smaller minimum. Then the process is repeated."
   ]
  },
  {
   "cell_type": "code",
   "execution_count": 11,
   "metadata": {},
   "outputs": [],
   "source": [
    "def opt_func(vals):\n",
    "    distances = []\n",
    "    for p in vals:\n",
    "        # Get the circuit\n",
    "        bound_approx_CCNOT = approx_CCNOT_qc.bind_parameters({pU1: p[:num_U1_params], pU2: p[num_U1_params:]})\n",
    "\n",
    "        # Get the matrix\n",
    "        approx_CCNOT_matrix = Operator(bound_approx_CCNOT).data\n",
    "\n",
    "        # Get the distance\n",
    "        hs_distance = get_hilbert_shmidt_distance(ccx_gate, approx_CCNOT_matrix)\n",
    "\n",
    "        abs_hs_distance = np.abs(hs_distance.real) + np.abs(hs_distance.imag)\n",
    "        distances.append(abs_hs_distance)\n",
    "\n",
    "    return distances"
   ]
  },
  {
   "cell_type": "code",
   "execution_count": 16,
   "metadata": {},
   "outputs": [],
   "source": [
    "def opt_func_minimize(vals):\n",
    "    # Get the circuit\n",
    "    bound_approx_CCNOT = approx_CCNOT_qc.bind_parameters({pU1: vals[:num_U1_params], pU2: vals[num_U1_params:]})\n",
    "\n",
    "    # Get the matrix\n",
    "    approx_CCNOT_matrix = Operator(bound_approx_CCNOT).data\n",
    "\n",
    "    # Get the distance\n",
    "    hs_distance = get_hilbert_shmidt_distance(ccx_gate, approx_CCNOT_matrix)\n",
    "\n",
    "    abs_hs_distance = np.abs(hs_distance.real) + np.abs(hs_distance.imag)\n",
    "    return abs_hs_distance\n"
   ]
  },
  {
   "attachments": {},
   "cell_type": "markdown",
   "metadata": {},
   "source": [
    "Here I use the `opt_func` defined above and run swarm optimization using the python library Pyswarms. I've choesn my c1 parameter to be 0.5 and my c2 parameter to be 0.3. The algorithm contains 200 particles and is set to run for 2500 iterations. I had all the variables bounded between 0 and $2\\pi and they all started at random values."
   ]
  },
  {
   "cell_type": "code",
   "execution_count": 12,
   "metadata": {},
   "outputs": [
    {
     "name": "stderr",
     "output_type": "stream",
     "text": [
      "2023-03-01 17:54:01,284 - pyswarms.single.global_best - INFO - Optimize for 2000 iters with {'c1': 0.5, 'c2': 0.3, 'w': 0.9}\n",
      "pyswarms.single.global_best:   0%|          |2/2000, best_cost=2.65\n"
     ]
    },
    {
     "ename": "KeyboardInterrupt",
     "evalue": "",
     "output_type": "error",
     "traceback": [
      "\u001b[0;31m---------------------------------------------------------------------------\u001b[0m",
      "\u001b[0;31mKeyboardInterrupt\u001b[0m                         Traceback (most recent call last)",
      "Cell \u001b[0;32mIn [12], line 4\u001b[0m\n\u001b[1;32m      2\u001b[0m bounds \u001b[39m=\u001b[39m (np\u001b[39m.\u001b[39mrepeat(\u001b[39m0\u001b[39m, num_U1_params \u001b[39m+\u001b[39m num_U2_params), np\u001b[39m.\u001b[39mrepeat(\u001b[39m2\u001b[39m\u001b[39m*\u001b[39mnp\u001b[39m.\u001b[39mpi, num_U1_params \u001b[39m+\u001b[39m num_U2_params))\n\u001b[1;32m      3\u001b[0m optimizer \u001b[39m=\u001b[39m ps\u001b[39m.\u001b[39msingle\u001b[39m.\u001b[39mGlobalBestPSO(n_particles\u001b[39m=\u001b[39m\u001b[39m250\u001b[39m, dimensions\u001b[39m=\u001b[39mnum_U1_params \u001b[39m+\u001b[39m num_U2_params, options\u001b[39m=\u001b[39moptions, bounds\u001b[39m=\u001b[39mbounds)\n\u001b[0;32m----> 4\u001b[0m cost_init, pos_init \u001b[39m=\u001b[39m optimizer\u001b[39m.\u001b[39;49moptimize(opt_func, iters\u001b[39m=\u001b[39;49m\u001b[39m2000\u001b[39;49m)\n\u001b[1;32m      6\u001b[0m \u001b[39mprint\u001b[39m(\u001b[39m\"\u001b[39m\u001b[39mTotal cost: \u001b[39m\u001b[39m\"\u001b[39m, cost_init)\n\u001b[1;32m      7\u001b[0m \u001b[39mprint\u001b[39m(\u001b[39m\"\u001b[39m\u001b[39mBest position: \u001b[39m\u001b[39m\"\u001b[39m, pos_init)\n",
      "File \u001b[0;32m~/.local/lib/python3.10/site-packages/pyswarms/single/global_best.py:209\u001b[0m, in \u001b[0;36mGlobalBestPSO.optimize\u001b[0;34m(self, objective_func, iters, n_processes, verbose, **kwargs)\u001b[0m\n\u001b[1;32m    205\u001b[0m ftol_history \u001b[39m=\u001b[39m deque(maxlen\u001b[39m=\u001b[39m\u001b[39mself\u001b[39m\u001b[39m.\u001b[39mftol_iter)\n\u001b[1;32m    206\u001b[0m \u001b[39mfor\u001b[39;00m i \u001b[39min\u001b[39;00m \u001b[39mself\u001b[39m\u001b[39m.\u001b[39mrep\u001b[39m.\u001b[39mpbar(iters, \u001b[39mself\u001b[39m\u001b[39m.\u001b[39mname) \u001b[39mif\u001b[39;00m verbose \u001b[39melse\u001b[39;00m \u001b[39mrange\u001b[39m(iters):\n\u001b[1;32m    207\u001b[0m     \u001b[39m# Compute cost for current position and personal best\u001b[39;00m\n\u001b[1;32m    208\u001b[0m     \u001b[39m# fmt: off\u001b[39;00m\n\u001b[0;32m--> 209\u001b[0m     \u001b[39mself\u001b[39m\u001b[39m.\u001b[39mswarm\u001b[39m.\u001b[39mcurrent_cost \u001b[39m=\u001b[39m compute_objective_function(\u001b[39mself\u001b[39;49m\u001b[39m.\u001b[39;49mswarm, objective_func, pool\u001b[39m=\u001b[39;49mpool, \u001b[39m*\u001b[39;49m\u001b[39m*\u001b[39;49mkwargs)\n\u001b[1;32m    210\u001b[0m     \u001b[39mself\u001b[39m\u001b[39m.\u001b[39mswarm\u001b[39m.\u001b[39mpbest_pos, \u001b[39mself\u001b[39m\u001b[39m.\u001b[39mswarm\u001b[39m.\u001b[39mpbest_cost \u001b[39m=\u001b[39m compute_pbest(\u001b[39mself\u001b[39m\u001b[39m.\u001b[39mswarm)\n\u001b[1;32m    211\u001b[0m     \u001b[39m# Set best_cost_yet_found for ftol\u001b[39;00m\n",
      "File \u001b[0;32m~/.local/lib/python3.10/site-packages/pyswarms/backend/operators.py:239\u001b[0m, in \u001b[0;36mcompute_objective_function\u001b[0;34m(swarm, objective_func, pool, **kwargs)\u001b[0m\n\u001b[1;32m    214\u001b[0m \u001b[39m\u001b[39m\u001b[39m\"\"\"Evaluate particles using the objective function\u001b[39;00m\n\u001b[1;32m    215\u001b[0m \n\u001b[1;32m    216\u001b[0m \u001b[39mThis method evaluates each particle in the swarm according to the objective\u001b[39;00m\n\u001b[0;32m   (...)\u001b[0m\n\u001b[1;32m    236\u001b[0m \u001b[39m    Cost-matrix for the given swarm\u001b[39;00m\n\u001b[1;32m    237\u001b[0m \u001b[39m\"\"\"\u001b[39;00m\n\u001b[1;32m    238\u001b[0m \u001b[39mif\u001b[39;00m pool \u001b[39mis\u001b[39;00m \u001b[39mNone\u001b[39;00m:\n\u001b[0;32m--> 239\u001b[0m     \u001b[39mreturn\u001b[39;00m objective_func(swarm\u001b[39m.\u001b[39;49mposition, \u001b[39m*\u001b[39;49m\u001b[39m*\u001b[39;49mkwargs)\n\u001b[1;32m    240\u001b[0m \u001b[39melse\u001b[39;00m:\n\u001b[1;32m    241\u001b[0m     results \u001b[39m=\u001b[39m pool\u001b[39m.\u001b[39mmap(\n\u001b[1;32m    242\u001b[0m         partial(objective_func, \u001b[39m*\u001b[39m\u001b[39m*\u001b[39mkwargs),\n\u001b[1;32m    243\u001b[0m         np\u001b[39m.\u001b[39marray_split(swarm\u001b[39m.\u001b[39mposition, pool\u001b[39m.\u001b[39m_processes),\n\u001b[1;32m    244\u001b[0m     )\n",
      "Cell \u001b[0;32mIn [11], line 11\u001b[0m, in \u001b[0;36mopt_func\u001b[0;34m(vals)\u001b[0m\n\u001b[1;32m      8\u001b[0m approx_CCNOT_matrix \u001b[39m=\u001b[39m Operator(bound_approx_CCNOT)\u001b[39m.\u001b[39mdata\n\u001b[1;32m     10\u001b[0m \u001b[39m# Get the distance\u001b[39;00m\n\u001b[0;32m---> 11\u001b[0m hs_distance \u001b[39m=\u001b[39m get_hilbert_shmidt_distance(ccx_gate, approx_CCNOT_matrix)\n\u001b[1;32m     13\u001b[0m abs_hs_distance \u001b[39m=\u001b[39m np\u001b[39m.\u001b[39mabs(hs_distance\u001b[39m.\u001b[39mreal) \u001b[39m+\u001b[39m np\u001b[39m.\u001b[39mabs(hs_distance\u001b[39m.\u001b[39mimag)\n\u001b[1;32m     14\u001b[0m distances\u001b[39m.\u001b[39mappend(abs_hs_distance)\n",
      "Cell \u001b[0;32mIn [4], line 2\u001b[0m, in \u001b[0;36mget_hilbert_shmidt_distance\u001b[0;34m(gate1, gate2)\u001b[0m\n\u001b[1;32m      1\u001b[0m \u001b[39mdef\u001b[39;00m \u001b[39mget_hilbert_shmidt_distance\u001b[39m(gate1, gate2):\n\u001b[0;32m----> 2\u001b[0m     \u001b[39mreturn\u001b[39;00m hilbert_dist(Qobj(gate1), Qobj(gate2))\n",
      "File \u001b[0;32m~/.local/lib/python3.10/site-packages/qutip/qobj.py:335\u001b[0m, in \u001b[0;36mQobj.__init__\u001b[0;34m(self, inpt, dims, shape, type, isherm, copy, fast, superrep, isunitary)\u001b[0m\n\u001b[1;32m    329\u001b[0m         \u001b[39mself\u001b[39m\u001b[39m.\u001b[39msuperrep \u001b[39m=\u001b[39m \u001b[39m'\u001b[39m\u001b[39msuper\u001b[39m\u001b[39m'\u001b[39m\n\u001b[1;32m    331\u001b[0m \u001b[39m# While the obvious check would be != that would fail valid\u001b[39;00m\n\u001b[1;32m    332\u001b[0m \u001b[39m# use cases such as enr_fock and other enr_ functions.\u001b[39;00m\n\u001b[1;32m    333\u001b[0m \u001b[39m# This does leave open the possibility of data still being\u001b[39;00m\n\u001b[1;32m    334\u001b[0m \u001b[39m# misused such as Qobj(complex[n**2][1], dims = [[n],[n]])\u001b[39;00m\n\u001b[0;32m--> 335\u001b[0m \u001b[39mif\u001b[39;00m (\u001b[39mself\u001b[39m\u001b[39m.\u001b[39m_data\u001b[39m.\u001b[39mshape[\u001b[39m0\u001b[39m] \u001b[39m>\u001b[39m np\u001b[39m.\u001b[39;49mprod(np\u001b[39m.\u001b[39;49mhstack(\u001b[39mself\u001b[39;49m\u001b[39m.\u001b[39;49mdims[\u001b[39m0\u001b[39;49m])) \u001b[39mor\u001b[39;00m\n\u001b[1;32m    336\u001b[0m    \u001b[39mself\u001b[39m\u001b[39m.\u001b[39m_data\u001b[39m.\u001b[39mshape[\u001b[39m1\u001b[39m] \u001b[39m>\u001b[39m np\u001b[39m.\u001b[39mprod(np\u001b[39m.\u001b[39mhstack(\u001b[39mself\u001b[39m\u001b[39m.\u001b[39mdims[\u001b[39m1\u001b[39m]))) \u001b[39mand\u001b[39;00m \\\n\u001b[1;32m    337\u001b[0m    \u001b[39mself\u001b[39m\u001b[39m.\u001b[39mtype \u001b[39m!=\u001b[39m \u001b[39m'\u001b[39m\u001b[39msuper\u001b[39m\u001b[39m'\u001b[39m:\n\u001b[1;32m    339\u001b[0m     \u001b[39mraise\u001b[39;00m \u001b[39mValueError\u001b[39;00m(\u001b[39mf\u001b[39m\u001b[39m\"\u001b[39m\u001b[39mQobj has smaller dims \u001b[39m\u001b[39m{\u001b[39;00m\u001b[39mself\u001b[39m\u001b[39m.\u001b[39mdims\u001b[39m}\u001b[39;00m\u001b[39m \u001b[39m\u001b[39m\"\u001b[39m \u001b[39m+\u001b[39m\n\u001b[1;32m    340\u001b[0m                      \u001b[39mf\u001b[39m\u001b[39m\"\u001b[39m\u001b[39mthan underlying shape \u001b[39m\u001b[39m{\u001b[39;00m\u001b[39mself\u001b[39m\u001b[39m.\u001b[39m_data\u001b[39m.\u001b[39mshape\u001b[39m}\u001b[39;00m\u001b[39m\"\u001b[39m)\n\u001b[1;32m    342\u001b[0m \u001b[39m# clear type cache\u001b[39;00m\n",
      "File \u001b[0;32m<__array_function__ internals>:200\u001b[0m, in \u001b[0;36mprod\u001b[0;34m(*args, **kwargs)\u001b[0m\n",
      "File \u001b[0;32m/usr/lib/python3.10/site-packages/numpy/core/fromnumeric.py:2955\u001b[0m, in \u001b[0;36mprod\u001b[0;34m(a, axis, dtype, out, keepdims, initial, where)\u001b[0m\n\u001b[1;32m   2950\u001b[0m \u001b[39mdef\u001b[39;00m \u001b[39m_prod_dispatcher\u001b[39m(a, axis\u001b[39m=\u001b[39m\u001b[39mNone\u001b[39;00m, dtype\u001b[39m=\u001b[39m\u001b[39mNone\u001b[39;00m, out\u001b[39m=\u001b[39m\u001b[39mNone\u001b[39;00m, keepdims\u001b[39m=\u001b[39m\u001b[39mNone\u001b[39;00m,\n\u001b[1;32m   2951\u001b[0m                      initial\u001b[39m=\u001b[39m\u001b[39mNone\u001b[39;00m, where\u001b[39m=\u001b[39m\u001b[39mNone\u001b[39;00m):\n\u001b[1;32m   2952\u001b[0m     \u001b[39mreturn\u001b[39;00m (a, out)\n\u001b[0;32m-> 2955\u001b[0m \u001b[39m@array_function_dispatch\u001b[39m(_prod_dispatcher)\n\u001b[1;32m   2956\u001b[0m \u001b[39mdef\u001b[39;00m \u001b[39mprod\u001b[39m(a, axis\u001b[39m=\u001b[39m\u001b[39mNone\u001b[39;00m, dtype\u001b[39m=\u001b[39m\u001b[39mNone\u001b[39;00m, out\u001b[39m=\u001b[39m\u001b[39mNone\u001b[39;00m, keepdims\u001b[39m=\u001b[39mnp\u001b[39m.\u001b[39m_NoValue,\n\u001b[1;32m   2957\u001b[0m          initial\u001b[39m=\u001b[39mnp\u001b[39m.\u001b[39m_NoValue, where\u001b[39m=\u001b[39mnp\u001b[39m.\u001b[39m_NoValue):\n\u001b[1;32m   2958\u001b[0m \u001b[39m    \u001b[39m\u001b[39m\"\"\"\u001b[39;00m\n\u001b[1;32m   2959\u001b[0m \u001b[39m    Return the product of array elements over a given axis.\u001b[39;00m\n\u001b[1;32m   2960\u001b[0m \n\u001b[0;32m   (...)\u001b[0m\n\u001b[1;32m   3074\u001b[0m \u001b[39m    10\u001b[39;00m\n\u001b[1;32m   3075\u001b[0m \u001b[39m    \"\"\"\u001b[39;00m\n\u001b[1;32m   3076\u001b[0m     \u001b[39mreturn\u001b[39;00m _wrapreduction(a, np\u001b[39m.\u001b[39mmultiply, \u001b[39m'\u001b[39m\u001b[39mprod\u001b[39m\u001b[39m'\u001b[39m, axis, dtype, out,\n\u001b[1;32m   3077\u001b[0m                           keepdims\u001b[39m=\u001b[39mkeepdims, initial\u001b[39m=\u001b[39minitial, where\u001b[39m=\u001b[39mwhere)\n",
      "\u001b[0;31mKeyboardInterrupt\u001b[0m: "
     ]
    }
   ],
   "source": [
    "options = {'c1': 0.5, 'c2': 0.3, 'w':0.9}\n",
    "bounds = (np.repeat(0, num_U1_params + num_U2_params), np.repeat(2*np.pi, num_U1_params + num_U2_params))\n",
    "optimizer = ps.single.GlobalBestPSO(n_particles=250, dimensions=num_U1_params + num_U2_params, options=options, bounds=bounds)\n",
    "cost_init, pos_init = optimizer.optimize(opt_func, iters=2000)\n",
    "\n",
    "print(\"Total cost: \", cost_init)\n",
    "print(\"Best position: \", pos_init)"
   ]
  },
  {
   "cell_type": "code",
   "execution_count": 18,
   "metadata": {},
   "outputs": [
    {
     "ename": "KeyboardInterrupt",
     "evalue": "",
     "output_type": "error",
     "traceback": [
      "\u001b[0;31m---------------------------------------------------------------------------\u001b[0m",
      "\u001b[0;31mKeyboardInterrupt\u001b[0m                         Traceback (most recent call last)",
      "Cell \u001b[0;32mIn [18], line 10\u001b[0m\n\u001b[1;32m      1\u001b[0m \u001b[39m# x0= [[0.80935757 4.03064928 3.99945074 3.58218358 4.36237669 1.39321919\u001b[39;00m\n\u001b[1;32m      2\u001b[0m \u001b[39m#  3.33812644 4.41750011 5.34766194 5.0108509  4.31427562 2.55189299\u001b[39;00m\n\u001b[1;32m      3\u001b[0m \u001b[39m#  3.29670679 0.27385438 3.29696433 4.04704062 4.72576305 1.97151616\u001b[39;00m\n\u001b[0;32m   (...)\u001b[0m\n\u001b[1;32m      7\u001b[0m \u001b[39m#  5.83847698 2.06351365 2.371979   4.21090831 0.91852663 3.54680939\u001b[39;00m\n\u001b[1;32m      8\u001b[0m \u001b[39m#  0.10755075 5.54178268 2.93166768]]\u001b[39;00m\n\u001b[0;32m---> 10\u001b[0m res \u001b[39m=\u001b[39m minimize(opt_func_minimize, np\u001b[39m.\u001b[39;49mrepeat(\u001b[39m0\u001b[39;49m, num_U1_params \u001b[39m+\u001b[39;49m num_U2_params))\n\u001b[1;32m     11\u001b[0m \u001b[39mprint\u001b[39m(res)\n",
      "File \u001b[0;32m~/.local/lib/python3.10/site-packages/scipy/optimize/_minimize.py:694\u001b[0m, in \u001b[0;36mminimize\u001b[0;34m(fun, x0, args, method, jac, hess, hessp, bounds, constraints, tol, callback, options)\u001b[0m\n\u001b[1;32m    692\u001b[0m     res \u001b[39m=\u001b[39m _minimize_cg(fun, x0, args, jac, callback, \u001b[39m*\u001b[39m\u001b[39m*\u001b[39moptions)\n\u001b[1;32m    693\u001b[0m \u001b[39melif\u001b[39;00m meth \u001b[39m==\u001b[39m \u001b[39m'\u001b[39m\u001b[39mbfgs\u001b[39m\u001b[39m'\u001b[39m:\n\u001b[0;32m--> 694\u001b[0m     res \u001b[39m=\u001b[39m _minimize_bfgs(fun, x0, args, jac, callback, \u001b[39m*\u001b[39;49m\u001b[39m*\u001b[39;49moptions)\n\u001b[1;32m    695\u001b[0m \u001b[39melif\u001b[39;00m meth \u001b[39m==\u001b[39m \u001b[39m'\u001b[39m\u001b[39mnewton-cg\u001b[39m\u001b[39m'\u001b[39m:\n\u001b[1;32m    696\u001b[0m     res \u001b[39m=\u001b[39m _minimize_newtoncg(fun, x0, args, jac, hess, hessp, callback,\n\u001b[1;32m    697\u001b[0m                              \u001b[39m*\u001b[39m\u001b[39m*\u001b[39moptions)\n",
      "File \u001b[0;32m~/.local/lib/python3.10/site-packages/scipy/optimize/_optimize.py:1309\u001b[0m, in \u001b[0;36m_minimize_bfgs\u001b[0;34m(fun, x0, args, jac, callback, gtol, norm, eps, maxiter, disp, return_all, finite_diff_rel_step, **unknown_options)\u001b[0m\n\u001b[1;32m   1306\u001b[0m pk \u001b[39m=\u001b[39m \u001b[39m-\u001b[39mnp\u001b[39m.\u001b[39mdot(Hk, gfk)\n\u001b[1;32m   1307\u001b[0m \u001b[39mtry\u001b[39;00m:\n\u001b[1;32m   1308\u001b[0m     alpha_k, fc, gc, old_fval, old_old_fval, gfkp1 \u001b[39m=\u001b[39m \\\n\u001b[0;32m-> 1309\u001b[0m              _line_search_wolfe12(f, myfprime, xk, pk, gfk,\n\u001b[1;32m   1310\u001b[0m                                   old_fval, old_old_fval, amin\u001b[39m=\u001b[39;49m\u001b[39m1e-100\u001b[39;49m, amax\u001b[39m=\u001b[39;49m\u001b[39m1e100\u001b[39;49m)\n\u001b[1;32m   1311\u001b[0m \u001b[39mexcept\u001b[39;00m _LineSearchError:\n\u001b[1;32m   1312\u001b[0m     \u001b[39m# Line search failed to find a better solution.\u001b[39;00m\n\u001b[1;32m   1313\u001b[0m     warnflag \u001b[39m=\u001b[39m \u001b[39m2\u001b[39m\n",
      "File \u001b[0;32m~/.local/lib/python3.10/site-packages/scipy/optimize/_optimize.py:1105\u001b[0m, in \u001b[0;36m_line_search_wolfe12\u001b[0;34m(f, fprime, xk, pk, gfk, old_fval, old_old_fval, **kwargs)\u001b[0m\n\u001b[1;32m   1103\u001b[0m             \u001b[39mif\u001b[39;00m key \u001b[39min\u001b[39;00m kwargs:\n\u001b[1;32m   1104\u001b[0m                 kwargs2[key] \u001b[39m=\u001b[39m kwargs[key]\n\u001b[0;32m-> 1105\u001b[0m         ret \u001b[39m=\u001b[39m line_search_wolfe2(f, fprime, xk, pk, gfk,\n\u001b[1;32m   1106\u001b[0m                                  old_fval, old_old_fval,\n\u001b[1;32m   1107\u001b[0m                                  extra_condition\u001b[39m=\u001b[39;49mextra_condition,\n\u001b[1;32m   1108\u001b[0m                                  \u001b[39m*\u001b[39;49m\u001b[39m*\u001b[39;49mkwargs2)\n\u001b[1;32m   1110\u001b[0m \u001b[39mif\u001b[39;00m ret[\u001b[39m0\u001b[39m] \u001b[39mis\u001b[39;00m \u001b[39mNone\u001b[39;00m:\n\u001b[1;32m   1111\u001b[0m     \u001b[39mraise\u001b[39;00m _LineSearchError()\n",
      "File \u001b[0;32m~/.local/lib/python3.10/site-packages/scipy/optimize/_linesearch.py:300\u001b[0m, in \u001b[0;36mline_search_wolfe2\u001b[0;34m(f, myfprime, xk, pk, gfk, old_fval, old_old_fval, args, c1, c2, amax, extra_condition, maxiter)\u001b[0m\n\u001b[1;32m    297\u001b[0m \u001b[39melse\u001b[39;00m:\n\u001b[1;32m    298\u001b[0m     extra_condition2 \u001b[39m=\u001b[39m \u001b[39mNone\u001b[39;00m\n\u001b[0;32m--> 300\u001b[0m alpha_star, phi_star, old_fval, derphi_star \u001b[39m=\u001b[39m scalar_search_wolfe2(\n\u001b[1;32m    301\u001b[0m         phi, derphi, old_fval, old_old_fval, derphi0, c1, c2, amax,\n\u001b[1;32m    302\u001b[0m         extra_condition2, maxiter\u001b[39m=\u001b[39;49mmaxiter)\n\u001b[1;32m    304\u001b[0m \u001b[39mif\u001b[39;00m derphi_star \u001b[39mis\u001b[39;00m \u001b[39mNone\u001b[39;00m:\n\u001b[1;32m    305\u001b[0m     warn(\u001b[39m'\u001b[39m\u001b[39mThe line search algorithm did not converge\u001b[39m\u001b[39m'\u001b[39m, LineSearchWarning)\n",
      "File \u001b[0;32m~/.local/lib/python3.10/site-packages/scipy/optimize/_linesearch.py:422\u001b[0m, in \u001b[0;36mscalar_search_wolfe2\u001b[0;34m(phi, derphi, phi0, old_phi0, derphi0, c1, c2, amax, extra_condition, maxiter)\u001b[0m\n\u001b[1;32m    418\u001b[0m not_first_iteration \u001b[39m=\u001b[39m i \u001b[39m>\u001b[39m \u001b[39m0\u001b[39m\n\u001b[1;32m    419\u001b[0m \u001b[39mif\u001b[39;00m (phi_a1 \u001b[39m>\u001b[39m phi0 \u001b[39m+\u001b[39m c1 \u001b[39m*\u001b[39m alpha1 \u001b[39m*\u001b[39m derphi0) \u001b[39mor\u001b[39;00m \\\n\u001b[1;32m    420\u001b[0m    ((phi_a1 \u001b[39m>\u001b[39m\u001b[39m=\u001b[39m phi_a0) \u001b[39mand\u001b[39;00m not_first_iteration):\n\u001b[1;32m    421\u001b[0m     alpha_star, phi_star, derphi_star \u001b[39m=\u001b[39m \\\n\u001b[0;32m--> 422\u001b[0m                 _zoom(alpha0, alpha1, phi_a0,\n\u001b[1;32m    423\u001b[0m                       phi_a1, derphi_a0, phi, derphi,\n\u001b[1;32m    424\u001b[0m                       phi0, derphi0, c1, c2, extra_condition)\n\u001b[1;32m    425\u001b[0m     \u001b[39mbreak\u001b[39;00m\n\u001b[1;32m    427\u001b[0m derphi_a1 \u001b[39m=\u001b[39m derphi(alpha1)\n",
      "File \u001b[0;32m~/.local/lib/python3.10/site-packages/scipy/optimize/_linesearch.py:569\u001b[0m, in \u001b[0;36m_zoom\u001b[0;34m(a_lo, a_hi, phi_lo, phi_hi, derphi_lo, phi, derphi, phi0, derphi0, c1, c2, extra_condition)\u001b[0m\n\u001b[1;32m    565\u001b[0m         a_j \u001b[39m=\u001b[39m a_lo \u001b[39m+\u001b[39m \u001b[39m0.5\u001b[39m\u001b[39m*\u001b[39mdalpha\n\u001b[1;32m    567\u001b[0m \u001b[39m# Check new value of a_j\u001b[39;00m\n\u001b[0;32m--> 569\u001b[0m phi_aj \u001b[39m=\u001b[39m phi(a_j)\n\u001b[1;32m    570\u001b[0m \u001b[39mif\u001b[39;00m (phi_aj \u001b[39m>\u001b[39m phi0 \u001b[39m+\u001b[39m c1\u001b[39m*\u001b[39ma_j\u001b[39m*\u001b[39mderphi0) \u001b[39mor\u001b[39;00m (phi_aj \u001b[39m>\u001b[39m\u001b[39m=\u001b[39m phi_lo):\n\u001b[1;32m    571\u001b[0m     phi_rec \u001b[39m=\u001b[39m phi_hi\n",
      "File \u001b[0;32m~/.local/lib/python3.10/site-packages/scipy/optimize/_linesearch.py:275\u001b[0m, in \u001b[0;36mline_search_wolfe2.<locals>.phi\u001b[0;34m(alpha)\u001b[0m\n\u001b[1;32m    273\u001b[0m \u001b[39mdef\u001b[39;00m \u001b[39mphi\u001b[39m(alpha):\n\u001b[1;32m    274\u001b[0m     fc[\u001b[39m0\u001b[39m] \u001b[39m+\u001b[39m\u001b[39m=\u001b[39m \u001b[39m1\u001b[39m\n\u001b[0;32m--> 275\u001b[0m     \u001b[39mreturn\u001b[39;00m f(xk \u001b[39m+\u001b[39;49m alpha \u001b[39m*\u001b[39;49m pk, \u001b[39m*\u001b[39;49margs)\n",
      "File \u001b[0;32m~/.local/lib/python3.10/site-packages/scipy/optimize/_differentiable_functions.py:267\u001b[0m, in \u001b[0;36mScalarFunction.fun\u001b[0;34m(self, x)\u001b[0m\n\u001b[1;32m    265\u001b[0m \u001b[39mif\u001b[39;00m \u001b[39mnot\u001b[39;00m np\u001b[39m.\u001b[39marray_equal(x, \u001b[39mself\u001b[39m\u001b[39m.\u001b[39mx):\n\u001b[1;32m    266\u001b[0m     \u001b[39mself\u001b[39m\u001b[39m.\u001b[39m_update_x_impl(x)\n\u001b[0;32m--> 267\u001b[0m \u001b[39mself\u001b[39;49m\u001b[39m.\u001b[39;49m_update_fun()\n\u001b[1;32m    268\u001b[0m \u001b[39mreturn\u001b[39;00m \u001b[39mself\u001b[39m\u001b[39m.\u001b[39mf\n",
      "File \u001b[0;32m~/.local/lib/python3.10/site-packages/scipy/optimize/_differentiable_functions.py:251\u001b[0m, in \u001b[0;36mScalarFunction._update_fun\u001b[0;34m(self)\u001b[0m\n\u001b[1;32m    249\u001b[0m \u001b[39mdef\u001b[39;00m \u001b[39m_update_fun\u001b[39m(\u001b[39mself\u001b[39m):\n\u001b[1;32m    250\u001b[0m     \u001b[39mif\u001b[39;00m \u001b[39mnot\u001b[39;00m \u001b[39mself\u001b[39m\u001b[39m.\u001b[39mf_updated:\n\u001b[0;32m--> 251\u001b[0m         \u001b[39mself\u001b[39;49m\u001b[39m.\u001b[39;49m_update_fun_impl()\n\u001b[1;32m    252\u001b[0m         \u001b[39mself\u001b[39m\u001b[39m.\u001b[39mf_updated \u001b[39m=\u001b[39m \u001b[39mTrue\u001b[39;00m\n",
      "File \u001b[0;32m~/.local/lib/python3.10/site-packages/scipy/optimize/_differentiable_functions.py:155\u001b[0m, in \u001b[0;36mScalarFunction.__init__.<locals>.update_fun\u001b[0;34m()\u001b[0m\n\u001b[1;32m    154\u001b[0m \u001b[39mdef\u001b[39;00m \u001b[39mupdate_fun\u001b[39m():\n\u001b[0;32m--> 155\u001b[0m     \u001b[39mself\u001b[39m\u001b[39m.\u001b[39mf \u001b[39m=\u001b[39m fun_wrapped(\u001b[39mself\u001b[39;49m\u001b[39m.\u001b[39;49mx)\n",
      "File \u001b[0;32m~/.local/lib/python3.10/site-packages/scipy/optimize/_differentiable_functions.py:137\u001b[0m, in \u001b[0;36mScalarFunction.__init__.<locals>.fun_wrapped\u001b[0;34m(x)\u001b[0m\n\u001b[1;32m    133\u001b[0m \u001b[39mself\u001b[39m\u001b[39m.\u001b[39mnfev \u001b[39m+\u001b[39m\u001b[39m=\u001b[39m \u001b[39m1\u001b[39m\n\u001b[1;32m    134\u001b[0m \u001b[39m# Send a copy because the user may overwrite it.\u001b[39;00m\n\u001b[1;32m    135\u001b[0m \u001b[39m# Overwriting results in undefined behaviour because\u001b[39;00m\n\u001b[1;32m    136\u001b[0m \u001b[39m# fun(self.x) will change self.x, with the two no longer linked.\u001b[39;00m\n\u001b[0;32m--> 137\u001b[0m fx \u001b[39m=\u001b[39m fun(np\u001b[39m.\u001b[39;49mcopy(x), \u001b[39m*\u001b[39;49margs)\n\u001b[1;32m    138\u001b[0m \u001b[39m# Make sure the function returns a true scalar\u001b[39;00m\n\u001b[1;32m    139\u001b[0m \u001b[39mif\u001b[39;00m \u001b[39mnot\u001b[39;00m np\u001b[39m.\u001b[39misscalar(fx):\n",
      "Cell \u001b[0;32mIn [16], line 3\u001b[0m, in \u001b[0;36mopt_func_minimize\u001b[0;34m(vals)\u001b[0m\n\u001b[1;32m      1\u001b[0m \u001b[39mdef\u001b[39;00m \u001b[39mopt_func_minimize\u001b[39m(vals):\n\u001b[1;32m      2\u001b[0m     \u001b[39m# Get the circuit\u001b[39;00m\n\u001b[0;32m----> 3\u001b[0m     bound_approx_CCNOT \u001b[39m=\u001b[39m approx_CCNOT_qc\u001b[39m.\u001b[39;49mbind_parameters({pU1: vals[:num_U1_params], pU2: vals[num_U1_params:]})\n\u001b[1;32m      5\u001b[0m     \u001b[39m# Get the matrix\u001b[39;00m\n\u001b[1;32m      6\u001b[0m     approx_CCNOT_matrix \u001b[39m=\u001b[39m Operator(bound_approx_CCNOT)\u001b[39m.\u001b[39mdata\n",
      "File \u001b[0;32m~/.local/lib/python3.10/site-packages/qiskit/circuit/quantumcircuit.py:2743\u001b[0m, in \u001b[0;36mQuantumCircuit.bind_parameters\u001b[0;34m(self, values)\u001b[0m\n\u001b[1;32m   2739\u001b[0m     \u001b[39mif\u001b[39;00m \u001b[39many\u001b[39m(\u001b[39misinstance\u001b[39m(value, ParameterExpression) \u001b[39mfor\u001b[39;00m value \u001b[39min\u001b[39;00m values\u001b[39m.\u001b[39mvalues()):\n\u001b[1;32m   2740\u001b[0m         \u001b[39mraise\u001b[39;00m \u001b[39mTypeError\u001b[39;00m(\n\u001b[1;32m   2741\u001b[0m             \u001b[39m\"\u001b[39m\u001b[39mFound ParameterExpression in values; use assign_parameters() instead.\u001b[39m\u001b[39m\"\u001b[39m\n\u001b[1;32m   2742\u001b[0m         )\n\u001b[0;32m-> 2743\u001b[0m     \u001b[39mreturn\u001b[39;00m \u001b[39mself\u001b[39;49m\u001b[39m.\u001b[39;49massign_parameters(values)\n\u001b[1;32m   2744\u001b[0m \u001b[39melse\u001b[39;00m:\n\u001b[1;32m   2745\u001b[0m     \u001b[39mif\u001b[39;00m \u001b[39many\u001b[39m(\u001b[39misinstance\u001b[39m(value, ParameterExpression) \u001b[39mfor\u001b[39;00m value \u001b[39min\u001b[39;00m values):\n",
      "File \u001b[0;32m~/.local/lib/python3.10/site-packages/qiskit/circuit/quantumcircuit.py:2679\u001b[0m, in \u001b[0;36mQuantumCircuit.assign_parameters\u001b[0;34m(self, parameters, inplace)\u001b[0m\n\u001b[1;32m   2677\u001b[0m     bound_circuit \u001b[39m=\u001b[39m \u001b[39mself\u001b[39m\n\u001b[1;32m   2678\u001b[0m \u001b[39melse\u001b[39;00m:\n\u001b[0;32m-> 2679\u001b[0m     bound_circuit \u001b[39m=\u001b[39m \u001b[39mself\u001b[39;49m\u001b[39m.\u001b[39;49mcopy()\n\u001b[1;32m   2680\u001b[0m     \u001b[39mself\u001b[39m\u001b[39m.\u001b[39m_increment_instances()\n\u001b[1;32m   2681\u001b[0m     bound_circuit\u001b[39m.\u001b[39m_name_update()\n",
      "File \u001b[0;32m~/.local/lib/python3.10/site-packages/qiskit/circuit/quantumcircuit.py:2234\u001b[0m, in \u001b[0;36mQuantumCircuit.copy\u001b[0;34m(self, name)\u001b[0m\n\u001b[1;32m   2228\u001b[0m cpy \u001b[39m=\u001b[39m \u001b[39mself\u001b[39m\u001b[39m.\u001b[39mcopy_empty_like(name)\n\u001b[1;32m   2230\u001b[0m operation_copies \u001b[39m=\u001b[39m {\n\u001b[1;32m   2231\u001b[0m     \u001b[39mid\u001b[39m(instruction\u001b[39m.\u001b[39moperation): instruction\u001b[39m.\u001b[39moperation\u001b[39m.\u001b[39mcopy() \u001b[39mfor\u001b[39;00m instruction \u001b[39min\u001b[39;00m \u001b[39mself\u001b[39m\u001b[39m.\u001b[39m_data\n\u001b[1;32m   2232\u001b[0m }\n\u001b[0;32m-> 2234\u001b[0m cpy\u001b[39m.\u001b[39m_parameter_table \u001b[39m=\u001b[39m ParameterTable(\n\u001b[1;32m   2235\u001b[0m     {\n\u001b[1;32m   2236\u001b[0m         param: ParameterReferences(\n\u001b[1;32m   2237\u001b[0m             (operation_copies[\u001b[39mid\u001b[39;49m(operation)], param_index)\n\u001b[1;32m   2238\u001b[0m             \u001b[39mfor\u001b[39;49;00m operation, param_index \u001b[39min\u001b[39;49;00m \u001b[39mself\u001b[39;49m\u001b[39m.\u001b[39;49m_parameter_table[param]\n\u001b[1;32m   2239\u001b[0m         )\n\u001b[1;32m   2240\u001b[0m         \u001b[39mfor\u001b[39;49;00m param \u001b[39min\u001b[39;49;00m \u001b[39mself\u001b[39;49m\u001b[39m.\u001b[39;49m_parameter_table\n\u001b[1;32m   2241\u001b[0m     }\n\u001b[1;32m   2242\u001b[0m )\n\u001b[1;32m   2244\u001b[0m cpy\u001b[39m.\u001b[39m_data \u001b[39m=\u001b[39m [\n\u001b[1;32m   2245\u001b[0m     instruction\u001b[39m.\u001b[39mreplace(operation\u001b[39m=\u001b[39moperation_copies[\u001b[39mid\u001b[39m(instruction\u001b[39m.\u001b[39moperation)])\n\u001b[1;32m   2246\u001b[0m     \u001b[39mfor\u001b[39;00m instruction \u001b[39min\u001b[39;00m \u001b[39mself\u001b[39m\u001b[39m.\u001b[39m_data\n\u001b[1;32m   2247\u001b[0m ]\n\u001b[1;32m   2249\u001b[0m \u001b[39mreturn\u001b[39;00m cpy\n",
      "File \u001b[0;32m~/.local/lib/python3.10/site-packages/qiskit/circuit/parametertable.py:106\u001b[0m, in \u001b[0;36mParameterTable.__init__\u001b[0;34m(self, mapping)\u001b[0m\n\u001b[1;32m    103\u001b[0m \u001b[39melse\u001b[39;00m:\n\u001b[1;32m    104\u001b[0m     \u001b[39mself\u001b[39m\u001b[39m.\u001b[39m_table \u001b[39m=\u001b[39m {}\n\u001b[0;32m--> 106\u001b[0m \u001b[39mself\u001b[39m\u001b[39m.\u001b[39m_keys \u001b[39m=\u001b[39m \u001b[39mset\u001b[39;49m(\u001b[39mself\u001b[39;49m\u001b[39m.\u001b[39;49m_table)\n\u001b[1;32m    107\u001b[0m \u001b[39mself\u001b[39m\u001b[39m.\u001b[39m_names \u001b[39m=\u001b[39m {x\u001b[39m.\u001b[39mname \u001b[39mfor\u001b[39;00m x \u001b[39min\u001b[39;00m \u001b[39mself\u001b[39m\u001b[39m.\u001b[39m_table}\n",
      "\u001b[0;31mKeyboardInterrupt\u001b[0m: "
     ]
    }
   ],
   "source": [
    "# x0= [[0.80935757 4.03064928 3.99945074 3.58218358 4.36237669 1.39321919\n",
    "#  3.33812644 4.41750011 5.34766194 5.0108509  4.31427562 2.55189299\n",
    "#  3.29670679 0.27385438 3.29696433 4.04704062 4.72576305 1.97151616\n",
    "#  2.7688676  3.4759589  1.38288517 3.32849963 5.13397885 5.64837988\n",
    "#  4.53649103 3.67736304 2.31726436 5.09984103 3.74299566 2.71574929\n",
    "#  3.79234352 1.69621877 1.90593825 4.47350015 3.61434907 3.92042023\n",
    "#  5.83847698 2.06351365 2.371979   4.21090831 0.91852663 3.54680939\n",
    "#  0.10755075 5.54178268 2.93166768]]\n",
    "\n",
    "res = minimize(opt_func_minimize, np.repeat(0, num_U1_params + num_U2_params))\n",
    "print(res)"
   ]
  },
  {
   "cell_type": "code",
   "execution_count": 1,
   "metadata": {},
   "outputs": [
    {
     "ename": "NameError",
     "evalue": "name 'pos_init' is not defined",
     "output_type": "error",
     "traceback": [
      "\u001b[0;31m---------------------------------------------------------------------------\u001b[0m",
      "\u001b[0;31mNameError\u001b[0m                                 Traceback (most recent call last)",
      "Cell \u001b[0;32mIn [1], line 2\u001b[0m\n\u001b[1;32m      1\u001b[0m \u001b[39m# Saving the best position thus far\u001b[39;00m\n\u001b[0;32m----> 2\u001b[0m best_pos_thus_far \u001b[39m=\u001b[39m pos_init\n",
      "\u001b[0;31mNameError\u001b[0m: name 'pos_init' is not defined"
     ]
    }
   ],
   "source": [
    "# Saving the best position thus far\n",
    "best_pos_thus_far = pos_init"
   ]
  },
  {
   "attachments": {},
   "cell_type": "markdown",
   "metadata": {},
   "source": [
    "## Results\n",
    "As we can see, the swarm optimization did quite well. I was able to achieve a HS distance of 0.428 - which is relatively close to the accepted minimum of $\\approx 0.38$. Let's take a look at the output matrix."
   ]
  },
  {
   "cell_type": "code",
   "execution_count": 29,
   "metadata": {},
   "outputs": [],
   "source": [
    "def pos_to_matrix(pos):\n",
    "    bound_approx_CCNOT = approx_CCNOT_qc.bind_parameters({pU1: pos[:num_U1_params], pU2: pos[num_U1_params:]})\n",
    "    approx_CCNOT_matrix = Operator(bound_approx_CCNOT).data\n",
    "    return approx_CCNOT_matrix"
   ]
  },
  {
   "cell_type": "code",
   "execution_count": 30,
   "metadata": {},
   "outputs": [
    {
     "name": "stdout",
     "output_type": "stream",
     "text": [
      "(-0.006069049415235672+0.0016431836551709378j)\n"
     ]
    }
   ],
   "source": [
    "print(get_hilbert_shmidt_distance(pos_to_matrix(best_pos_thus_far), ccx_gate))"
   ]
  },
  {
   "cell_type": "code",
   "execution_count": 31,
   "metadata": {},
   "outputs": [
    {
     "name": "stdout",
     "output_type": "stream",
     "text": [
      "0.9417119513890031\n"
     ]
    }
   ],
   "source": [
    "print(my_hilbert_schmidt_distance(pos_to_matrix(best_pos_thus_far), ccx_gate))"
   ]
  },
  {
   "cell_type": "code",
   "execution_count": 32,
   "metadata": {},
   "outputs": [
    {
     "data": {
      "text/latex": [
       "$$\n",
       "\n",
       "\\begin{bmatrix}\n",
       "0.53367 - 0.12042i & -0.12327 - 0.16181i & -0.10149 - 0.13097i & -0.43629 + 0.11696i & -0.29499 - 0.24087i & -0.39062 + 0.09772i & 0.17363 - 0.13013i & 0.20353 - 0.17933i  \\\\\n",
       " 0.00629 - 0.17707i & 0.19745 + 0.52779i & 0.25751 - 0.2167i & 0.01399 - 0.06299i & 0.13361 + 0.42286i & -0.44381 + 0.02384i & 0.27104 + 0.16217i & 0.19768 + 0.02412i  \\\\\n",
       " 0.08476 - 0.36753i & -0.13808 - 0.39225i & 0.31521 - 0.24916i & -0.01163 - 0.33204i & 0.05492 + 0.22102i & 0.28806 + 0.12959i & -0.2166 + 0.02366i & 0.45068 + 0.10377i  \\\\\n",
       " 0.16221 + 0.24345i & 0.10199 - 0.05001i & 0.35929 - 0.04279i & 0.06871 + 0.60081i & 0.18438 - 0.11407i & 0.06239 + 0.14177i & -0.25676 + 0.43284i & 0.1821 - 0.21786i  \\\\\n",
       " 0.52697 - 0.00909i & -0.158 + 0.33095i & 0.131 - 0.08498i & -0.16908 - 0.17733i & 0.41087 + 0.01667i & 0.23451 + 0.09849i & -0.19692 - 0.16107i & -0.44728 - 0.0689i  \\\\\n",
       " 0.07814 + 0.08606i & 0.42998 + 0.17859i & 0.05161 + 0.11938i & -0.31656 - 0.15941i & -0.44434 + 0.14596i & 0.52281 + 0.01092i & 0.16416 + 0.18008i & 0.0247 - 0.27384i  \\\\\n",
       " -0.2327 + 0.12319i & -0.13454 + 0.19738i & 0.51247 - 0.30106i & -0.02904 + 0.21148i & -0.17786 - 0.26306i & 0.20475 - 0.04064i & 0.22464 - 0.51683i & 0.048 + 0.1024i  \\\\\n",
       " 0.2461 - 0.14242i & 0.05382 + 0.20979i & -0.16861 + 0.37937i & 0.26873 + 0.11087i & 0.2542 - 0.07832i & 0.20604 - 0.30397i & 0.1107 - 0.31381i & 0.52274 - 0.16062i  \\\\\n",
       " \\end{bmatrix}\n",
       "$$"
      ],
      "text/plain": [
       "<IPython.core.display.Latex object>"
      ]
     },
     "execution_count": 32,
     "metadata": {},
     "output_type": "execute_result"
    }
   ],
   "source": [
    "array_to_latex(pos_to_matrix(best_pos_thus_far))"
   ]
  },
  {
   "attachments": {},
   "cell_type": "markdown",
   "metadata": {},
   "source": [
    "As we can see, this matrix is quite good. All of the positions where we expect to see 1s are values very close to such."
   ]
  },
  {
   "attachments": {},
   "cell_type": "markdown",
   "metadata": {},
   "source": [
    "## Attempt at Further Optimization\n",
    "\n",
    "This matrix is quite good. However, we could optimize it to get a bit closer.\n",
    "\n",
    "To start, lets consider the imaginary version of the Hilbert Schmidt Distance; which is of course 2-dimentional"
   ]
  },
  {
   "cell_type": "code",
   "execution_count": 16,
   "metadata": {},
   "outputs": [
    {
     "ename": "NameError",
     "evalue": "name 'bound_approx_CCNOT' is not defined",
     "output_type": "error",
     "traceback": [
      "\u001b[0;31m---------------------------------------------------------------------------\u001b[0m",
      "\u001b[0;31mNameError\u001b[0m                                 Traceback (most recent call last)",
      "Cell \u001b[0;32mIn [16], line 1\u001b[0m\n\u001b[0;32m----> 1\u001b[0m qutip_hs_dist \u001b[39m=\u001b[39m get_hilbert_shmidt_distance(ccx_gate, Operator(bound_approx_CCNOT)\u001b[39m.\u001b[39mdata)\n\u001b[1;32m      2\u001b[0m \u001b[39mprint\u001b[39m(qutip_hs_dist)\n",
      "\u001b[0;31mNameError\u001b[0m: name 'bound_approx_CCNOT' is not defined"
     ]
    }
   ],
   "source": [
    "qutip_hs_dist = get_hilbert_shmidt_distance(ccx_gate, Operator(bound_approx_CCNOT).data)\n",
    "print(qutip_hs_dist)"
   ]
  },
  {
   "attachments": {},
   "cell_type": "markdown",
   "metadata": {},
   "source": [
    "Now, lets plot the HS distance on a polar plot centered around zero"
   ]
  },
  {
   "cell_type": "code",
   "execution_count": 185,
   "metadata": {},
   "outputs": [
    {
     "data": {
      "text/plain": [
       "(-30.0, 30.0)"
      ]
     },
     "execution_count": 185,
     "metadata": {},
     "output_type": "execute_result"
    },
    {
     "data": {
      "image/png": "[encoded data removed]",
      "text/plain": [
       "<Figure size 640x480 with 1 Axes>"
      ]
     },
     "metadata": {},
     "output_type": "display_data"
    }
   ],
   "source": [
    "plt.scatter([qutip_hs_dist.real], [qutip_hs_dist.imag])\n",
    "plt.grid()\n",
    "plt.xlim([-30, 30])\n",
    "plt.ylim([-30, 30])"
   ]
  },
  {
   "attachments": {},
   "cell_type": "markdown",
   "metadata": {},
   "source": [
    "Lets choose 3 points we can optimize around. Here they are at pi/4, 3pi/4 and 3pi/2"
   ]
  },
  {
   "cell_type": "code",
   "execution_count": 192,
   "metadata": {},
   "outputs": [
    {
     "data": {
      "text/plain": [
       "(-30.0, 30.0)"
      ]
     },
     "execution_count": 192,
     "metadata": {},
     "output_type": "execute_result"
    },
    {
     "data": {
      "image/png": "[encoded data removed]",
      "text/plain": [
       "<Figure size 640x480 with 1 Axes>"
      ]
     },
     "metadata": {},
     "output_type": "display_data"
    }
   ],
   "source": [
    "opt_point1 = -qutip_hs_dist.real + qutip_hs_dist.imag * 1j\n",
    "opt_point2 =  qutip_hs_dist.real - qutip_hs_dist.imag * 1j\n",
    "opt_point3 = -qutip_hs_dist.real - qutip_hs_dist.imag * 1j\n",
    "\n",
    "plt.scatter([qutip_hs_dist.real, opt_point1.real, opt_point2.real, opt_point3.real], [qutip_hs_dist.imag, opt_point1.imag, opt_point2.imag, opt_point3.imag])\n",
    "plt.grid()\n",
    "plt.xlim([-30, 30])\n",
    "plt.ylim([-30, 30])"
   ]
  },
  {
   "attachments": {},
   "cell_type": "markdown",
   "metadata": {},
   "source": [
    "If we can possibly optimize a set of matrices centered around *different* points. Then we can use approximate computation (similar to QUEST) by calculating an average matrix of all of them. \n",
    "\n",
    "Lets define a new optimization function that takes in a shifted value from the HS distance. Then we perform swam optimization once more on each of these shifted distances"
   ]
  },
  {
   "cell_type": "code",
   "execution_count": 197,
   "metadata": {},
   "outputs": [],
   "source": [
    "def opt_func_shift(vals, center):\n",
    "    distances = []\n",
    "    for p in vals:\n",
    "        # Get the circuit\n",
    "        bound_approx_CCNOT = approx_CCNOT_qc.bind_parameters({pU1: p[:num_U1_params], pU2: p[num_U1_params:]})\n",
    "\n",
    "        # Get the matrix\n",
    "        approx_CCNOT_matrix = Operator(bound_approx_CCNOT).data\n",
    "\n",
    "        # Get the distance\n",
    "        distances.append(get_hilbert_shmidt_distance(ccx_gate, approx_CCNOT_matrix) + center)\n",
    "\n",
    "    return  distances"
   ]
  },
  {
   "cell_type": "code",
   "execution_count": 198,
   "metadata": {},
   "outputs": [],
   "source": [
    "def swarm(center_point, num_particles=100, num_iters=1000):\n",
    "    options = {'c1': 0.5, 'c2': 0.3, 'w':0.9}\n",
    "    bounds = (np.repeat(0, num_U1_params + num_U2_params), np.repeat(2*np.pi, num_U1_params + num_U2_params))\n",
    "    optimizer = ps.single.GlobalBestPSO(n_particles=num_particles, dimensions=num_U1_params + num_U2_params, options=options, bounds=bounds)\n",
    "    cost, pos = optimizer.optimize(opt_func_shift, iters=num_iters, center=center_point)\n",
    "    return cost, pos"
   ]
  },
  {
   "cell_type": "code",
   "execution_count": 199,
   "metadata": {},
   "outputs": [
    {
     "name": "stderr",
     "output_type": "stream",
     "text": [
      "2023-02-25 13:40:58,833 - pyswarms.single.global_best - INFO - Optimize for 1000 iters with {'c1': 0.5, 'c2': 0.3, 'w': 0.9}\n",
      "pyswarms.single.global_best: 100%|██████████|1000/1000, best_cost=-28.6+8.89j\n",
      "2023-02-25 13:54:39,961 - pyswarms.single.global_best - INFO - Optimization finished | best cost: (-28.599308497278976+8.886321420399561j), best pos: [3.58811598 2.0177183  5.15115218 5.1228291  4.61921616 2.46612764\n",
      " 3.73603982 4.28436479 3.66687865 4.2760522  3.13186055 5.04507014\n",
      " 3.1001058  3.01776624 2.38249799 5.67406341 2.42025585 3.8929401\n",
      " 4.36026617 3.12554758 3.83618111 4.82730524 2.7452311  3.56244069\n",
      " 2.96814722 0.77365847 1.93035488 3.55897302 2.49046794 3.20206162\n",
      " 1.49651518 2.75932079 4.36336892 4.81269027 3.40910368 1.70397248\n",
      " 1.54160605 4.43838542 1.17572532 2.39587676 2.79598301 5.58771347\n",
      " 4.41281812 1.46948093 2.76557057]\n",
      "2023-02-25 13:54:39,989 - pyswarms.single.global_best - INFO - Optimize for 1000 iters with {'c1': 0.5, 'c2': 0.3, 'w': 0.9}\n",
      "pyswarms.single.global_best: 100%|██████████|1000/1000, best_cost=23.3-6.86j\n",
      "2023-02-25 14:09:10,558 - pyswarms.single.global_best - INFO - Optimization finished | best cost: (23.29321008155895-6.864663356773837j), best pos: [4.20387943 1.88644283 3.1115846  2.95711532 5.00309573 2.14185298\n",
      " 3.85095754 3.52738191 3.9647929  4.49815618 3.55537547 2.31999714\n",
      " 4.02925619 4.6283238  1.4062689  2.32126758 2.13067213 1.96017126\n",
      " 3.20480921 2.823696   2.25115687 1.23181866 1.74020711 4.93235836\n",
      " 1.58354018 3.64501367 2.51079088 2.36606985 1.66966623 2.51110811\n",
      " 1.56035633 3.59370686 5.16800733 1.74597741 5.36304014 3.65618689\n",
      " 2.42353585 4.87506179 5.16764902 1.94095759 4.72925974 3.9219297\n",
      " 2.24745509 1.73716447 3.39736754]\n",
      "2023-02-25 14:09:10,582 - pyswarms.single.global_best - INFO - Optimize for 1000 iters with {'c1': 0.5, 'c2': 0.3, 'w': 0.9}\n",
      "pyswarms.single.global_best: 100%|██████████|1000/1000, best_cost=-27.7-8.66j\n",
      "2023-02-25 14:22:21,393 - pyswarms.single.global_best - INFO - Optimization finished | best cost: (-27.721742901629135-8.658573465530722j), best pos: [2.88636431 2.96032615 3.89364142 2.19349879 3.12319684 2.77437798\n",
      " 2.2658139  3.5241959  3.35377357 2.53840407 2.23137185 2.60492821\n",
      " 2.15511607 3.48755726 3.69337361 2.20065627 4.51097996 2.181503\n",
      " 4.46327853 2.21869159 1.34279505 3.66787691 5.08820259 1.53390279\n",
      " 0.76490309 3.20243934 2.61671972 3.63730656 2.88531272 6.10544718\n",
      " 3.36846247 2.71642707 4.00907353 1.35482546 5.0115586  3.78267392\n",
      " 1.20302429 1.97809666 2.93311929 4.61320302 4.95805463 4.29182494\n",
      " 5.00757699 4.09012139 4.04452996]\n"
     ]
    }
   ],
   "source": [
    "cost_pos1, pos_pos1 = swarm(opt_point1, num_particles=100, num_iters=1000)\n",
    "cost_pos2, pos_pos2 = swarm(opt_point2, num_particles=100, num_iters=1000)\n",
    "cost_pos3, pos_pos3 = swarm(opt_point3, num_particles=100, num_iters=1000)"
   ]
  },
  {
   "cell_type": "code",
   "execution_count": 200,
   "metadata": {},
   "outputs": [
    {
     "name": "stdout",
     "output_type": "stream",
     "text": [
      "(-2.617449505363499+1.4956251835351022j)\n"
     ]
    }
   ],
   "source": [
    "tot_cost_pos1 = cost_pos1-opt_point1\n",
    "tot_cost_pos2 = cost_pos2-opt_point2\n",
    "tot_cost_pos3 = cost_pos3-opt_point3\n",
    "print(tot_cost_pos1)"
   ]
  },
  {
   "cell_type": "code",
   "execution_count": 202,
   "metadata": {},
   "outputs": [
    {
     "data": {
      "text/plain": [
       "(-30.0, 30.0)"
      ]
     },
     "execution_count": 202,
     "metadata": {},
     "output_type": "execute_result"
    },
    {
     "data": {
      "image/png": "[encoded data removed]",
      "text/plain": [
       "<Figure size 640x480 with 1 Axes>"
      ]
     },
     "metadata": {},
     "output_type": "display_data"
    }
   ],
   "source": [
    "#plt.polar([0, np.angle(cost_pos1)], [0, np.abs(cost_pos1)], marker='o')\n",
    "# plt.polar([0, np.angle(cost_pos1), 0, np.angle(cost_pos2),0,np.angle(cost_pos3)], [0, np.abs(cost_pos1), 0, np.abs(cost_pos2),0,np.abs(cost_pos3)], marker='o')\n",
    "plt.scatter([qutip_hs_dist.real, cost_pos1.real, cost_pos2.real, cost_pos3.real], [qutip_hs_dist.imag, cost_pos1.imag, cost_pos2.imag, cost_pos3.imag])\n",
    "plt.grid()\n",
    "plt.xlim([-30, 30])\n",
    "plt.ylim([-30, 30])"
   ]
  },
  {
   "cell_type": "code",
   "execution_count": 203,
   "metadata": {},
   "outputs": [
    {
     "data": {
      "text/latex": [
       "$$\n",
       "\n",
       "\\begin{bmatrix}\n",
       "0.42119 - 0.43436i & -0.35941 - 0.1423i & 0.10714 - 0.24037i & -0.2079 - 0.1689i & 0.1405 - 0.16388i & -0.4121 + 0.03608i & 0.09371 - 0.29672i & -0.17013 - 0.00159i  \\\\\n",
       " 0.35368 - 0.07083i & 0.47106 + 0.14762i & 0.00684 - 0.00766i & -0.40595 + 0.18016i & 0.17241 + 0.28433i & 0.22905 + 0.26531i & 0.23236 - 0.0055i & -0.22508 + 0.30123i  \\\\\n",
       " -0.12722 - 0.23245i & -0.17733 + 0.16718i & 0.48412 - 0.33767i & -0.19646 - 0.14864i & 0.11106 + 0.30908i & 0.16885 - 0.25227i & -0.05435 + 0.38572i & 0.31065 + 0.11424i  \\\\\n",
       " 0.24269 - 0.18281i & 0.33589 - 0.01988i & -0.01151 + 0.07845i & 0.02653 + 0.13947i & -0.26607 + 0.27785i & -0.44357 + 0.15306i & -0.18966 + 0.02749i & 0.55491 - 0.23493i  \\\\\n",
       " 0.06026 - 0.08853i & -0.13135 + 0.29926i & 0.02309 + 0.49705i & 0.16598 + 0.19433i & 0.53687 - 0.10637i & -0.32775 - 0.00087i & -0.01611 + 0.37493i & -0.00567 + 0.14489i  \\\\\n",
       " 0.44426 + 0.16412i & -0.19391 + 0.37948i & -0.01243 - 0.29979i & 0.41048 + 0.1329i & 0.19864 - 0.00938i & 0.33938 + 0.1911i & -0.1841 - 0.18942i & 0.17724 - 0.15962i  \\\\\n",
       " -0.14471 - 0.28099i & -0.10186 + 0.34515i & 0.07031 + 0.26648i & 0.23024 + 0.06243i & -0.15249 + 0.38114i & 0.04237 - 0.24034i & 0.46729 - 0.41299i & -0.05767 - 0.13198i  \\\\\n",
       " -0.05424 - 0.0518i & 0.02585 - 0.12521i & -0.26788 - 0.30104i & 0.53053 - 0.24559i & -0.02279 + 0.2808i & -0.20432 + 0.18238i & 0.18924 + 0.15926i & -0.03378 + 0.50712i  \\\\\n",
       " \\end{bmatrix}\n",
       "$$"
      ],
      "text/plain": [
       "<IPython.core.display.Latex object>"
      ]
     },
     "execution_count": 203,
     "metadata": {},
     "output_type": "execute_result"
    }
   ],
   "source": [
    "array_to_latex(pos_to_matrix(pos_pos1))"
   ]
  },
  {
   "cell_type": "code",
   "execution_count": 204,
   "metadata": {},
   "outputs": [
    {
     "data": {
      "text/latex": [
       "$$\n",
       "\n",
       "\\begin{bmatrix}\n",
       "0.64592 - 0.17706i & -0.221 + 0.23481i & -0.21834 + 0.2898i & 0.15601 + 0.01524i & -0.04741 - 0.2013i & -0.23478 + 0.26072i & 0.31824 - 0.11621i & -0.09757 - 0.03258i  \\\\\n",
       " 0.39771 + 0.2122i & 0.71413 + 0.11764i & 0.15047 + 0.06075i & 0.07653 + 0.06501i & 0.334 - 0.15058i & 0.08379 + 0.04351i & -0.19862 + 0.06376i & 0.18919 + 0.11878i  \\\\\n",
       " 0.24281 + 0.26247i & -0.11451 + 0.10216i & 0.50401 - 0.12875i & -0.14437 - 0.55801i & -0.15341 - 0.18732i & -0.01439 - 0.22997i & -0.06186 - 0.13355i & -0.31826 - 0.10538i  \\\\\n",
       " -0.1259 - 0.11114i & -0.06778 + 0.27369i & 0.33263 - 0.52656i & 0.09876 + 0.32016i & 0.23475 - 0.25515i & -0.10948 + 0.12915i & 0.22421 - 0.16845i & 0.15769 - 0.37382i  \\\\\n",
       " -0.00253 - 0.02682i & -0.29081 - 0.09434i & -0.03266 - 0.1323i & -0.09077 - 0.27427i & 0.44544 - 0.08769i & 0.19118 + 0.6305i & -0.2913 + 0.24792i & -0.11902 + 0.05567i  \\\\\n",
       " 0.3172 + 0.20674i & -0.06211 - 0.06032i & 0.2093 - 0.1757i & 0.1878 + 0.20829i & -0.37146 + 0.49032i & 0.45748 + 0.26945i & 0.0781 + 0.10182i & 0.02947 - 0.13489i  \\\\\n",
       " -0.15813 + 0.10377i & 0.34085 - 0.21889i & 0.03889 + 0.03315i & -0.25201 - 0.05763i & 0.17025 + 0.12022i & 0.01333 + 0.22724i & 0.68408 - 0.057i & -0.40352 + 0.03757i  \\\\\n",
       " -0.11017 - 0.01356i & -0.04009 + 0.04996i & 0.17977 - 0.23521i & 0.52938 - 0.10807i & -0.0927 - 0.08736i & -0.13545 + 0.0104i & 0.21374 + 0.24842i & -0.01169 + 0.67956i  \\\\\n",
       " \\end{bmatrix}\n",
       "$$"
      ],
      "text/plain": [
       "<IPython.core.display.Latex object>"
      ]
     },
     "execution_count": 204,
     "metadata": {},
     "output_type": "execute_result"
    }
   ],
   "source": [
    "array_to_latex(pos_to_matrix(pos_pos2))"
   ]
  },
  {
   "cell_type": "code",
   "execution_count": 205,
   "metadata": {},
   "outputs": [
    {
     "data": {
      "text/latex": [
       "$$\n",
       "\n",
       "\\begin{bmatrix}\n",
       "0.47477 - 0.16468i & 0.03734 - 0.2549i & -0.21271 - 0.22895i & 0.11697 + 0.14508i & -0.20988 + 0.30041i & -0.36707 - 0.44371i & 0.08178 - 0.0112i & 0.09632 - 0.25828i  \\\\\n",
       " 0.03238 - 0.33725i & 0.27205 + 0.73445i & -0.14265 + 0.08288i & -0.19148 + 0.27986i & 0.14208 + 0.16039i & 0.16036 - 0.20872i & 0.01653 - 0.04574i & -0.0396 - 0.10225i  \\\\\n",
       " -0.0208 - 0.23177i & 0.02651 + 0.02126i & 0.50294 - 0.46934i & 0.12722 - 0.2181i & 0.31856 - 0.07085i & 0.12772 + 0.02103i & 0.11505 + 0.15168i & 0.00416 - 0.4982i  \\\\\n",
       " -0.33799 + 0.10077i & -0.17328 - 0.14025i & -0.2253 - 0.25178i & -0.03897 + 0.62293i & 0.2034 + 0.05698i & 0.0483 + 0.20056i & 0.19322 + 0.01946i & 0.42655 - 0.12398i  \\\\\n",
       " 0.40247 + 0.37293i & 0.10384 - 0.06662i & -0.02315 - 0.17731i & -0.12883 + 0.06657i & 0.65488 + 0.2051i & -0.00838 + 0.0856i & -0.21945 - 0.18851i & -0.1948 + 0.17537i  \\\\\n",
       " 0.24172 - 0.23091i & 0.28701 - 0.25248i & -0.08906 - 0.04711i & 0.09608 + 0.1408i & -0.27235 + 0.23717i & 0.51291 + 0.49789i & 0.08456 - 0.02261i & -0.2307 - 0.02546i  \\\\\n",
       " 0.19509 - 0.04842i & -0.08223 - 0.04234i & 0.2734 + 0.1914i & -0.06406 + 0.15036i & 0.09723 - 0.18327i & -0.06269 - 0.04859i & 0.78278 - 0.322i & -0.13077 + 0.17346i  \\\\\n",
       " -0.00159 + 0.03065i & -0.05881 + 0.30983i & 0.04739 - 0.3633i & 0.56177 + 0.06766i & -0.05833 + 0.14448i & -0.11434 + 0.0454i & 0.14166 + 0.29836i & -0.08889 + 0.5374i  \\\\\n",
       " \\end{bmatrix}\n",
       "$$"
      ],
      "text/plain": [
       "<IPython.core.display.Latex object>"
      ]
     },
     "execution_count": 205,
     "metadata": {},
     "output_type": "execute_result"
    }
   ],
   "source": [
    "array_to_latex(pos_to_matrix(pos_pos3))"
   ]
  },
  {
   "cell_type": "code",
   "execution_count": 210,
   "metadata": {},
   "outputs": [
    {
     "data": {
      "text/latex": [
       "$$\n",
       "\n",
       "\\begin{bmatrix}\n",
       "0.17536 - 0.31867i & -0.16174 - 0.01535i & -0.08256 - 0.04661i & 0.02208 + 0.00302i & -0.01121 - 0.03578i & -0.23447 - 0.02077i & 0.11898 - 0.09807i & -0.04271 - 0.07876i  \\\\\n",
       " 0.1671 - 0.0134i & 0.25023 + 0.06965i & 0.00756 + 0.03597i & -0.12622 + 0.13921i & 0.18223 + 0.07969i & 0.03064 + 0.10563i & 0.00344 + 0.00063i & -0.02614 + 0.07445i  \\\\\n",
       " 0.02516 - 0.04768i & -0.06216 + 0.07311i & 0.24012 - 0.44i & -0.0517 - 0.25022i & 0.07224 + 0.02268i & 0.06412 - 0.10672i & -0.01004 + 0.11826i & 0.00497 - 0.15974i  \\\\\n",
       " -0.04989 - 0.05551i & 0.02807 + 0.02524i & 0.05257 - 0.16592i & 0.12412 + 0.18259i & 0.03087 + 0.02895i & -0.1159 + 0.11827i & 0.06342 - 0.04721i & 0.12998 - 0.31953i  \\\\\n",
       " 0.13069 + 0.04645i & -0.09066 - 0.00383i & -0.01569 + 0.03498i & -0.00998 - 0.00167i & 0.28788 - 0.20737i & -0.02346 + 0.15166i & -0.12673 + 0.11161i & -0.09142 + 0.10654i  \\\\\n",
       " 0.25013 + 0.03673i & -0.07056 + 0.10507i & 0.01884 - 0.12666i & 0.1787 + 0.12167i & -0.07786 + 0.15194i & 0.14751 + 0.12212i & -0.00282 - 0.04276i & -0.01212 - 0.09034i  \\\\\n",
       " -0.02933 - 0.04992i & 0.03974 + 0.02298i & 0.07665 + 0.13007i & -0.01234 + 0.06915i & 0.02567 + 0.07628i & 0.01554 - 0.02484i & 0.27816 - 0.33369i & -0.15205 + 0.01619i  \\\\\n",
       " -0.04469 - 0.00841i & -0.02675 + 0.05591i & 0.00249 - 0.19911i & 0.27886 - 0.23479i & -0.04791 + 0.0705i & -0.11409 + 0.06237i & 0.10935 + 0.17147i & 0.06121 + 0.33641i  \\\\\n",
       " \\end{bmatrix}\n",
       "$$"
      ],
      "text/plain": [
       "<IPython.core.display.Latex object>"
      ]
     },
     "execution_count": 210,
     "metadata": {},
     "output_type": "execute_result"
    }
   ],
   "source": [
    "average_mat = (pos_to_matrix(pos_init) + pos_to_matrix(pos_pos1) + pos_to_matrix(pos_pos2) + pos_to_matrix(pos_pos3)) / 4\n",
    "array_to_latex(average_mat)"
   ]
  },
  {
   "cell_type": "code",
   "execution_count": 211,
   "metadata": {},
   "outputs": [
    {
     "data": {
      "text/plain": [
       "(3.4242954988095855+2.4601458482469236j)"
      ]
     },
     "execution_count": 211,
     "metadata": {},
     "output_type": "execute_result"
    }
   ],
   "source": [
    "get_hilbert_shmidt_distance(ccx_gate, average_mat)"
   ]
  },
  {
   "cell_type": "code",
   "execution_count": 212,
   "metadata": {},
   "outputs": [
    {
     "data": {
      "text/plain": [
       "0.9522955023748987"
      ]
     },
     "execution_count": 212,
     "metadata": {},
     "output_type": "execute_result"
    }
   ],
   "source": [
    "my_hilbert_schmidt_distance(ccx_gate, average_mat)"
   ]
  },
  {
   "cell_type": "code",
   "execution_count": null,
   "metadata": {},
   "outputs": [],
   "source": []
  }
 ],
 "metadata": {
  "kernelspec": {
   "display_name": "Python 3",
   "language": "python",
   "name": "python3"
  },
  "language_info": {
   "codemirror_mode": {
    "name": "ipython",
    "version": 3
   },
   "file_extension": ".py",
   "mimetype": "text/x-python",
   "name": "python",
   "nbconvert_exporter": "python",
   "pygments_lexer": "ipython3",
   "version": "3.10.9"
  },
  "orig_nbformat": 4,
  "vscode": {
   "interpreter": {
    "hash": "e7370f93d1d0cde622a1f8e1c04877d8463912d04d973331ad4851f04de6915a"
   }
  }
 },
 "nbformat": 4,
 "nbformat_minor": 2
}
